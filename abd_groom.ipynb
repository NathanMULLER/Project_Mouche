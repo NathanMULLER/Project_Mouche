{
 "cells": [
  {
   "cell_type": "markdown",
   "metadata": {},
   "source": [
    "## Abdomen grooming "
   ]
  },
  {
   "cell_type": "code",
   "execution_count": 1,
   "metadata": {},
   "outputs": [
    {
     "name": "stdout",
     "output_type": "stream",
     "text": [
      "0 joint_Head\n",
      "1 joint_Head_yaw\n",
      "2 joint_Head_roll\n",
      "3 joint_LHCoxa\n",
      "4 joint_LHCoxa_roll\n",
      "5 joint_LHCoxa_yaw\n",
      "6 joint_LHFemur\n",
      "7 joint_LHFemur_roll\n",
      "8 joint_LHTibia\n",
      "9 joint_LHTarsus1\n",
      "10 joint_RHCoxa\n",
      "11 joint_RHCoxa_roll\n",
      "12 joint_RHCoxa_yaw\n",
      "13 joint_RHFemur\n",
      "14 joint_RHFemur_roll\n",
      "15 joint_RHTibia\n",
      "16 joint_RHTarsus1\n",
      "17 joint_LPedicel\n",
      "18 joint_LPedicel_yaw\n",
      "19 joint_RPedicel\n",
      "20 joint_RPedicel_yaw\n",
      "21 joint_A1A2\n",
      "22 joint_A3\n",
      "23 joint_A4\n",
      "24 joint_A5\n",
      "25 joint_A6\n",
      "26\n",
      "3 10\n"
     ]
    }
   ],
   "source": [
    "import numpy as np\n",
    "import pickle\n",
    "import matplotlib.pyplot as plt\n",
    "from pathlib import Path\n",
    "from tqdm import trange\n",
    "\n",
    "from nmf_grooming import (\n",
    "    NeuromechflyGrooming,\n",
    "    all_groom_dofs, \n",
    "    plot_state_and_contacts,\n",
    "    load_grooming_data,\n",
    ")\n",
    "\n",
    "from flygym.mujoco import Parameters, NeuroMechFly\n",
    "from flygym.mujoco.arena import tethered"
   ]
  },
  {
   "cell_type": "markdown",
   "metadata": {},
   "source": [
    "Load grooming data"
   ]
  },
  {
   "cell_type": "code",
   "execution_count": 2,
   "metadata": {},
   "outputs": [],
   "source": [
    "grooming_module_path = Path(\"./data/grooming_modules_provided_slow.pkl\")\n",
    "with open(grooming_module_path, \"rb\") as f:\n",
    "    grooming_modules = pickle.load(f)\n",
    "timestep = grooming_modules[\"timestep\"]"
   ]
  },
  {
   "cell_type": "markdown",
   "metadata": {},
   "source": [
    "## Simulation"
   ]
  },
  {
   "cell_type": "code",
   "execution_count": 3,
   "metadata": {},
   "outputs": [
    {
     "name": "stdout",
     "output_type": "stream",
     "text": [
      "(26, 558)\n"
     ]
    },
    {
     "name": "stderr",
     "output_type": "stream",
     "text": [
      "100%|██████████| 5580/5580 [00:11<00:00, 475.23it/s]\n"
     ]
    },
    {
     "name": "stdout",
     "output_type": "stream",
     "text": [
      "26 (26,)\n"
     ]
    }
   ],
   "source": [
    "sim_params = Parameters(\n",
    "    timestep=timestep,\n",
    "    render_mode=\"saved\",\n",
    "    render_playspeed=0.1,\n",
    "    draw_contacts=True,\n",
    "    render_camera=\"Animat/camera_front\",\n",
    ")\n",
    "\n",
    "run_time = 1.0\n",
    "target_num_steps = int(run_time / timestep) # 10'000\n",
    "nmf = NeuromechflyGrooming(\n",
    "    sim_params=sim_params,\n",
    ")\n",
    "\n",
    "obs_list = []\n",
    "target_joint_angles_front = grooming_modules[\"foreleg\"][:, :target_num_steps]\n",
    "abd_arr = 0.25*np.ones((5, 558))\n",
    "target_joint_angles_front = np.concatenate([target_joint_angles_front, abd_arr], axis=0)\n",
    "print(np.shape(target_joint_angles_front))\n",
    "\n",
    "nbre_step = len(grooming_modules['foreleg'][0])-1\n",
    "# 10 loops of frontleg grooming\n",
    "replay_steps = [nbre_step,2*nbre_step,3*nbre_step,4*nbre_step,5*nbre_step,\n",
    "                6*nbre_step,7*nbre_step,8*nbre_step,9*nbre_step,10*nbre_step]\n",
    "joint_pos = np.zeros(26)\n",
    "k = 0\n",
    "obs, info = nmf.reset()\n",
    "for i in trange(10*558):\n",
    "    joint_pos = target_joint_angles_front[:, k]\n",
    "    \n",
    "    action = {\"joints\": joint_pos}\n",
    "    obs, reward, terminated, truncated, info = nmf.step(action)\n",
    "    nmf.render()\n",
    "    obs_list.append(obs)\n",
    "    if i in replay_steps:\n",
    "        k = 0\n",
    "    else:\n",
    "        k += 1\n",
    "        \n",
    "if sim_params.render_camera == \"Animat/camera_front\":\n",
    "    frontleg_video = \"frontleg_groom_front.mp4\"\n",
    "else:\n",
    "    frontleg_video = \"frontleg_groom_left.mp4\"  \n",
    "print(len(joint_pos), np.shape(joint_pos))  \n",
    "nmf.save_video(frontleg_video)"
   ]
  }
 ],
 "metadata": {
  "kernelspec": {
   "display_name": "Python 3",
   "language": "python",
   "name": "python3"
  },
  "language_info": {
   "codemirror_mode": {
    "name": "ipython",
    "version": 3
   },
   "file_extension": ".py",
   "mimetype": "text/x-python",
   "name": "python",
   "nbconvert_exporter": "python",
   "pygments_lexer": "ipython3",
   "version": "3.11.7"
  }
 },
 "nbformat": 4,
 "nbformat_minor": 2
}
