{
 "cells": [
  {
   "cell_type": "code",
   "execution_count": 190,
   "metadata": {},
   "outputs": [],
   "source": [
    "import numpy as np\n",
    "import pickle\n",
    "import matplotlib.pyplot as plt\n",
    "from pathlib import Path\n",
    "from tqdm import trange\n",
    "\n",
    "\n",
    "import flygym.common\n",
    "import flygym.mujoco\n",
    "import flygym.mujoco.preprogrammed\n",
    "\n",
    "from flygym.mujoco import Parameters\n",
    "\n",
    "from nmf_project import (\n",
    "    NeuromechflyProject,\n",
    "    all_actuated_dof,)\n",
    "\n",
    "\n",
    "from scipy.signal import find_peaks, medfilt\n",
    "from IPython.display import Video\n",
    "\n",
    "from flygym.mujoco.examples.rule_based_controller import PreprogrammedSteps"
   ]
  },
  {
   "cell_type": "code",
   "execution_count": 191,
   "metadata": {},
   "outputs": [],
   "source": [
    "# Joint angles according to indices\n",
    "LF_COXA = 0\n",
    "LF_COXA_ROLL = 1\n",
    "LF_COXA_YAW = 2\n",
    "LF_FEMUR = 3\n",
    "LF_FEMUR_ROLL = 4\n",
    "LF_TIBIA = 5\n",
    "LF_TARSUS = 6\n",
    "\n",
    "LM_COXA = 7\n",
    "LM_COXA_ROLL = 8\n",
    "LM_COXA_YAW = 9\n",
    "LM_FEMUR = 10\n",
    "LM_FEMUR_ROLL = 11\n",
    "LM_TIBIA = 12\n",
    "LM_TARSUS = 13\n",
    "\n",
    "LH_COXA = 14\n",
    "LH_COXA_ROLL = 15\n",
    "LH_COXA_YAW = 16\n",
    "LH_FEMUR = 17\n",
    "LH_FEMUR_ROLL = 18\n",
    "LH_TIBIA = 19\n",
    "LH_TARSUS = 20\n",
    "\n",
    "RF_COXA = 21\n",
    "RF_COXA_ROLL = 22\n",
    "RF_COXA_YAW = 23\n",
    "RF_FEMUR = 24\n",
    "RF_FEMUR_ROLL = 25\n",
    "RF_TIBIA = 26\n",
    "RF_TARSUS = 27\n",
    "\n",
    "RM_COXA = 28\n",
    "RM_COXA_ROLL = 29\n",
    "RM_COXA_YAW = 30\n",
    "RM_FEMUR = 31\n",
    "RM_FEMUR_ROLL = 32\n",
    "RM_TIBIA = 33\n",
    "RM_TARSUS = 34\n",
    "\n",
    "RH_COXA = 35\n",
    "RH_COXA_ROLL = 36\n",
    "RH_COXA_YAW = 37\n",
    "RH_FEMUR = 38\n",
    "RH_FEMUR_ROLL = 39\n",
    "RH_TIBIA = 40\n",
    "RH_TARSUS = 41"
   ]
  },
  {
   "cell_type": "markdown",
   "metadata": {},
   "source": [
    "#### Set up simulation parameters"
   ]
  },
  {
   "cell_type": "code",
   "execution_count": 192,
   "metadata": {},
   "outputs": [],
   "source": [
    "run_time = 1\n",
    "\n",
    "sim_params = Parameters(timestep=1e-4,\n",
    "    render_mode=\"saved\",\n",
    "    render_playspeed=0.2,\n",
    "    enable_adhesion=True,\n",
    "    draw_adhesion=True,\n",
    "    render_camera=\"Animat/camera_left\",\n",
    ")\n",
    "\n",
    "actuated_joints = flygym.mujoco.preprogrammed.all_leg_dofs\n",
    "\n",
    "target_num_steps = int(run_time / sim_params.timestep) # 10'000\n"
   ]
  },
  {
   "cell_type": "code",
   "execution_count": 193,
   "metadata": {},
   "outputs": [],
   "source": [
    "#### POST CHGMT NATHAN D'HIER ####\n",
    "\n",
    "# nmf = NeuromechflyProject(sim_params=sim_params,)\n",
    "\n",
    "# preprogrammed_steps = PreprogrammedSteps()\n",
    "\n",
    "# swing_periods = preprogrammed_steps.swing_period\n",
    "\n",
    "# legs = preprogrammed_steps.legs\n",
    "\n",
    "# actuated_joints = preprogrammed_steps.dofs_per_leg\n",
    "\n",
    "# standing_action = []\n",
    "\n",
    "# for leg in legs:\n",
    "#     if leg.endswith(\"M\"):\n",
    "#         standing_action.extend(preprogrammed_steps.get_joint_angles(leg, swing_periods[leg][1]))\n",
    "#     else:\n",
    "#         standing_action.extend(preprogrammed_steps.get_joint_angles(leg, 0.0))\n",
    "\n",
    "# standing_action.extend([0]*5) # Add the abdomen actuators at zero\n",
    "\n",
    "# last_position = standing_action\n",
    "\n",
    "# standing_action = {'joints': standing_action, \"adhesion\": np.zeros(len(legs))}\n",
    "\n",
    "# for i in range(int(0.2//nmf.timestep)):\n",
    "#     nmf.step(standing_action)"
   ]
  },
  {
   "cell_type": "code",
   "execution_count": 194,
   "metadata": {},
   "outputs": [],
   "source": [
    "nmf = NeuromechflyProject(sim_params=sim_params,)\n",
    "\n",
    "preprogrammed_steps = PreprogrammedSteps()\n",
    "\n",
    "swing_periods = preprogrammed_steps.swing_period\n",
    "\n",
    "legs = preprogrammed_steps.legs\n",
    "\n",
    "actuated_joints = preprogrammed_steps.dofs_per_leg\n",
    "\n",
    "standing_action = []\n",
    "\n",
    "for leg in legs:\n",
    "    if leg.endswith(\"M\"):\n",
    "        standing_action.extend(preprogrammed_steps.get_joint_angles(leg, swing_periods[leg][1]))\n",
    "    else:\n",
    "        standing_action.extend(preprogrammed_steps.get_joint_angles(leg, 0.0))\n",
    "\n",
    "standing_action.extend([0]*5) # Add the abdomen actuators at zero\n",
    "\n",
    "standing_action = {'joints': standing_action, \"adhesion\": np.zeros(len(legs))}\n",
    "\n",
    "for i in range(int(0.2//nmf.timestep)):\n",
    "    nmf.step(standing_action)"
   ]
  },
  {
   "cell_type": "markdown",
   "metadata": {},
   "source": [
    "#### 1ST MOVEMENT: Move middle legs to the back (1st movement)"
   ]
  },
  {
   "cell_type": "code",
   "execution_count": 195,
   "metadata": {},
   "outputs": [
    {
     "name": "stderr",
     "output_type": "stream",
     "text": [
      "100%|██████████| 5000/5000 [00:41<00:00, 121.94it/s]\n"
     ]
    }
   ],
   "source": [
    "target_num_steps = 5000\n",
    "nmf.reset()\n",
    "foreleg_ids = np.zeros(target_num_steps)\n",
    "middle_stance_ids = np.linspace(swing_periods[\"RM\"][1], -1/4*np.pi, target_num_steps)\n",
    "hind_swings_ids = np.zeros(target_num_steps)\n",
    "\n",
    "adhesion_action = np.array([1.0 if leg.endswith(\"F\") else 0.0 for leg in legs])\n",
    "all_joint_angles = []\n",
    "\n",
    "for i in trange(target_num_steps):\n",
    "    joint_angles = []\n",
    "    for leg in legs:\n",
    "        if leg.endswith(\"H\"):\n",
    "            joint_angles.extend(preprogrammed_steps.get_joint_angles(leg, hind_swings_ids[i]))\n",
    "        elif leg.endswith(\"M\"):\n",
    "            joint_angles.extend(preprogrammed_steps.get_joint_angles(leg, middle_stance_ids[i]))\n",
    "        else:\n",
    "            joint_angles.extend(preprogrammed_steps.get_joint_angles(leg, foreleg_ids[i]))\n",
    "    joint_angles.extend([0]*5) # Add abdomen actuators at zero\n",
    "\n",
    "    all_joint_angles.append(joint_angles.copy())\n",
    "    \n",
    "    action = {'joints': np.array(joint_angles), \"adhesion\": adhesion_action}\n",
    "    nmf.step(action)\n",
    "    nmf.render()\n",
    "nmf.save_video(\"./outputs/b.mp4\")\n",
    "\n",
    "# Save the last joint angles\n",
    "last_joint_angles = all_joint_angles[-1]\n",
    "all_joint_angles_arr = np.array(all_joint_angles)"
   ]
  },
  {
   "cell_type": "code",
   "execution_count": 196,
   "metadata": {},
   "outputs": [],
   "source": [
    "#### POST CHGMT NATHAN D'HIER ####\n",
    "\n",
    "# target_num_steps = 5000\n",
    "# nmf.reset()\n",
    "# foreleg_ids = np.zeros(target_num_steps)\n",
    "# middle_stance_ids = np.linspace(swing_periods[\"RM\"][1], -1/8*np.pi, target_num_steps)\n",
    "# hind_swings_ids = np.zeros(target_num_steps)\n",
    "\n",
    "# adhesion_action = np.array([1.0 if leg.endswith(\"F\") else 0.0 for leg in legs])\n",
    "\n",
    "# all_joint_angles = np.ones((target_num_steps, len(last_position)))\n",
    "\n",
    "# for i in range(len(all_joint_angles[0])):\n",
    "#     if i == LM_COXA :\n",
    "#         all_joint_angles[:,i] = np.linspace(last_position[LM_COXA], 1/8*np.pi, target_num_steps)\n",
    "#     elif i == LM_COXA_ROLL:\n",
    "#         all_joint_angles[:,i] = np.linspace(last_position[LM_COXA_ROLL], 2/3*np.pi, target_num_steps)\n",
    "#     elif i == LM_TIBIA:\n",
    "#         all_joint_angles[:,i] = np.linspace(last_position[LM_TIBIA], 1/2*np.pi, target_num_steps)\n",
    "#     elif i == LM_TARSUS:\n",
    "#         all_joint_angles[:,i] = np.linspace(last_position[LM_TARSUS], 0, target_num_steps)\n",
    "#     elif i == RM_COXA:\n",
    "#         all_joint_angles[:,i] = np.linspace(last_position[RM_COXA], 1/8*np.pi, target_num_steps)\n",
    "#     elif i == RM_COXA_ROLL:\n",
    "#         all_joint_angles[:,i] = np.linspace(last_position[RM_COXA_ROLL], -2/3*np.pi, target_num_steps)\n",
    "#     elif i == RM_TIBIA:\n",
    "#         all_joint_angles[:,i] = np.linspace(last_position[RM_TIBIA], 1/2*np.pi, target_num_steps)\n",
    "#     elif i == RM_TARSUS:\n",
    "#         all_joint_angles[:,i] = np.linspace(last_position[RM_TARSUS], 0, target_num_steps)\n",
    "#     else:\n",
    "#         all_joint_angles[:,i] = np.linspace(last_position[i], last_position[i], target_num_steps)\n",
    "\n",
    "# for i in trange(target_num_steps):\n",
    "#     joint_angles = all_joint_angles[i,:]    \n",
    "#     action = {'joints': np.array(joint_angles), \"adhesion\": adhesion_action}\n",
    "#     nmf.step(action)\n",
    "#     nmf.render()\n",
    "\n",
    "# # Save the last joint angles\n",
    "# last_joint_angles = all_joint_angles[-1]\n",
    "# all_joint_angles_arr = np.array(all_joint_angles)\n",
    "\n",
    "# adhesion_action = np.array([0.0 if leg.endswith(\"H\") else 1.0 for leg in legs])\n",
    "\n",
    "# for i in trange(1):\n",
    "#     joint_angles = last_joint_angles\n",
    "#     action = {'joints': np.array(joint_angles), \"adhesion\": adhesion_action}\n",
    "#     nmf.step(action)\n",
    "#     nmf.render()\n",
    "# nmf.save_video(\"./outputs/b.mp4\")"
   ]
  },
  {
   "cell_type": "markdown",
   "metadata": {},
   "source": [
    "#### 2ND MOVEMENT: Weight on front and middle legs"
   ]
  },
  {
   "cell_type": "code",
   "execution_count": 197,
   "metadata": {},
   "outputs": [],
   "source": [
    "sim_params = Parameters(timestep=1e-4,\n",
    "    render_mode=\"saved\",\n",
    "    render_playspeed=0.2,\n",
    "    enable_adhesion=True,\n",
    "    draw_adhesion=True,\n",
    "    render_camera=\"Animat/camera_back\",\n",
    ")\n",
    "\n",
    "target_num_steps = 5000\n",
    "half_nbre_steps = target_num_steps//2\n",
    "nmf = NeuromechflyProject(sim_params=sim_params,)"
   ]
  },
  {
   "cell_type": "code",
   "execution_count": 198,
   "metadata": {},
   "outputs": [],
   "source": [
    "abdomen_ctrl_up = np.zeros((target_num_steps)) # shape (nbre_steps, )\n",
    "abdomen_ctrl_up[:half_nbre_steps] = np.linspace(0, 0.1, half_nbre_steps)\n",
    "abdomen_ctrl_up[half_nbre_steps:] = np.ones(target_num_steps-half_nbre_steps)*0.1 # abd is up after 1 seconds and stays up\n",
    "abd_joint = np.tile(abdomen_ctrl_up, (5, 1)).T"
   ]
  },
  {
   "cell_type": "code",
   "execution_count": 199,
   "metadata": {},
   "outputs": [
    {
     "name": "stdout",
     "output_type": "stream",
     "text": [
      "(5000, 47)\n",
      "47\n"
     ]
    },
    {
     "name": "stderr",
     "output_type": "stream",
     "text": [
      "100%|██████████| 5000/5000 [00:44<00:00, 112.48it/s]\n"
     ]
    }
   ],
   "source": [
    "nmf.reset()\n",
    "\n",
    "all_joint_angles_2nd = np.zeros([target_num_steps,47]) # shape (nbre_steps, 47)\n",
    "print(all_joint_angles_2nd.shape)\n",
    "\n",
    "print(len(last_joint_angles))\n",
    "\n",
    "for i in range(len(last_joint_angles)):\n",
    "#### LEFT LEGS ####    \n",
    "    if i == LF_TIBIA: # LF tibia\n",
    "        all_joint_angles_2nd[:,i] = np.linspace(last_joint_angles[LF_TIBIA], 1/3*np.pi, target_num_steps)\n",
    "    elif i == LF_TARSUS : # LF tarsus\n",
    "        all_joint_angles_2nd[:,i] = np.linspace(last_joint_angles[LF_TARSUS], 0, target_num_steps)\n",
    "\n",
    "    elif i == LM_TIBIA: # LM tibia\n",
    "        all_joint_angles_2nd[:,i] = np.linspace(last_joint_angles[LM_TIBIA], 1/3*np.pi, target_num_steps)\n",
    "    elif i == LM_TARSUS: # LM tarsus\n",
    "        all_joint_angles_2nd[:,i] = np.linspace(last_joint_angles[LM_TARSUS], 0, target_num_steps)\n",
    "    elif i == LM_FEMUR: # LM FEMUR\n",
    "        all_joint_angles_2nd[:,i] = np.linspace(last_joint_angles[LM_FEMUR], -3/7*np.pi, target_num_steps)\n",
    "    elif i == LM_FEMUR_ROLL: # LM FEMUR ROLL\n",
    "        all_joint_angles_2nd[:,i] = np.linspace(last_joint_angles[LM_FEMUR_ROLL], last_joint_angles[LM_FEMUR_ROLL]/2, target_num_steps)\n",
    "    # elif i == LM_COXA: # LM COXA\n",
    "    #     all_joint_angles_2nd[:,i] = np.linspace(last_joint_angles[LM_COXA], 0, target_num_steps)\n",
    "\n",
    "    elif i == LH_FEMUR: # LH FEMUR\n",
    "        all_joint_angles_2nd[:,i] = np.linspace(last_joint_angles[LH_FEMUR], -2/5*np.pi, target_num_steps)\n",
    "    elif i == LH_TIBIA: # LH tibia\n",
    "        all_joint_angles_2nd[:,i] = np.linspace(last_joint_angles[LH_TIBIA], 3*np.pi/5, target_num_steps)\n",
    "    elif i == LH_TARSUS: # LH tarsus\n",
    "        all_joint_angles_2nd[:,i] = np.linspace(last_joint_angles[LH_TARSUS], -np.pi/12, target_num_steps)\n",
    "\n",
    "#### RIGHT LEGS ####\n",
    "    elif i == RF_TIBIA: # RF tibia\n",
    "        all_joint_angles_2nd[:,i] = np.linspace(last_joint_angles[RF_TIBIA], 1/3*np.pi, target_num_steps)\n",
    "    elif i == RF_TARSUS: # RF tarsus\n",
    "        all_joint_angles_2nd[:,i] = np.linspace(last_joint_angles[RF_TARSUS], 0, target_num_steps)\n",
    "\n",
    "    elif i == RM_TIBIA: # RM tibia\n",
    "        all_joint_angles_2nd[:,i] = np.linspace(last_joint_angles[RM_TIBIA], 1/3*np.pi, target_num_steps)\n",
    "    elif i == RM_TARSUS: # RM tarsus\n",
    "        all_joint_angles_2nd[:,i] = np.linspace(last_joint_angles[RM_TARSUS], 0, target_num_steps)\n",
    "    elif i == RM_FEMUR: # LM FEMUR\n",
    "        all_joint_angles_2nd[:,i] = np.linspace(last_joint_angles[RM_FEMUR], -3/7*np.pi, target_num_steps)\n",
    "    elif i == RM_FEMUR_ROLL: # RM FEMUR ROLL\n",
    "        all_joint_angles_2nd[:,i] = np.linspace(last_joint_angles[RM_FEMUR_ROLL], last_joint_angles[RM_FEMUR_ROLL]/2, target_num_steps)\n",
    "    # elif i == RM_COXA: # RM COXA\n",
    "    #     all_joint_angles_2nd[:,i] = np.linspace(last_joint_angles[RM_COXA], 0, target_num_steps)\n",
    "    \n",
    "    elif i == RH_FEMUR: # RH FEMUR\n",
    "        all_joint_angles_2nd[:,i] = np.linspace(last_joint_angles[RH_FEMUR], -2/5*np.pi, target_num_steps)\n",
    "    elif i == RH_TIBIA: # RH tibia\n",
    "        all_joint_angles_2nd[:,i] = np.linspace(last_joint_angles[RH_TIBIA], 3*np.pi/5, target_num_steps)\n",
    "    elif i == RH_TARSUS: # RH tarsus\n",
    "        all_joint_angles_2nd[:,i] = np.linspace(last_joint_angles[RH_TARSUS], -np.pi/12, target_num_steps)\n",
    "                    \n",
    "    else:\n",
    "        all_joint_angles_2nd[:,i] = np.linspace(last_joint_angles[i], last_joint_angles[i], target_num_steps)\n",
    "\n",
    "all_joint_angles_2nd[:,42:] = abd_joint\n",
    "adhesion_action = np.array([0.0 if leg.endswith(\"H\") else 1.0 for leg in legs])\n",
    "\n",
    "for i in trange(target_num_steps):\n",
    "    joint = all_joint_angles_2nd[i,:]\n",
    "    action = {'joints': joint, \"adhesion\": adhesion_action}\n",
    "    nmf.step(action)\n",
    "    nmf.render()\n",
    "last_joint_angles_2nd = all_joint_angles_2nd[-1,:]\n",
    "nmf.save_video(\"./outputs/c.mp4\")"
   ]
  },
  {
   "cell_type": "markdown",
   "metadata": {},
   "source": [
    "#### Actuate the hindlegs"
   ]
  },
  {
   "cell_type": "code",
   "execution_count": 200,
   "metadata": {},
   "outputs": [],
   "source": [
    "nbre_steps = 5000\n",
    "all_joint_angles_abd = np.tile(last_joint_angles_2nd,(nbre_steps,1)) # shape (nbre_steps, 47)\n",
    "\n",
    "all_joint_angles_abd[:,42] = np.linspace(last_joint_angles_2nd[42], 0.2, nbre_steps) # up the abdomen a bit\n",
    "all_joint_angles_abd[:,43] = np.linspace(last_joint_angles_2nd[43], 0.2, nbre_steps) # up the abdomen a bit\n",
    "all_joint_angles_abd[:,44] = np.linspace(last_joint_angles_2nd[44], 0.1, nbre_steps) # up the abdomen a bit\n",
    "all_joint_angles_abd[:,45] = np.linspace(last_joint_angles_2nd[45], 0.1, nbre_steps) # up the abdomen a bit\n",
    "\n",
    "# Update all_joint_angles_abd with the new joint angles of leg \n",
    "start_LH_COXA_YAW = last_joint_angles_2nd[LH_COXA_YAW] \n",
    "start_RH_COXA_YAW = last_joint_angles_2nd[RH_COXA_YAW] \n",
    "start_LH_COXA = last_joint_angles_2nd[LH_COXA] \n",
    "start_RH_COXA = last_joint_angles_2nd[RH_COXA] \n",
    "start_LH_COXA_ROLL = last_joint_angles_2nd[LH_COXA_ROLL]\n",
    "start_RH_COXA_ROLL = last_joint_angles_2nd[RH_COXA_ROLL]\n",
    "start_LH_FEMUR_ROLL = last_joint_angles_2nd[LH_FEMUR_ROLL]\n",
    "start_RH_FEMUR_ROLL = last_joint_angles_2nd[RH_FEMUR_ROLL]\n",
    "start_LH_FEMUR = last_joint_angles_2nd[LH_FEMUR] \n",
    "start_RH_FEMUR = last_joint_angles_2nd[RH_FEMUR]\n",
    "start_LH_TIBIA = last_joint_angles_2nd[LH_TIBIA]\n",
    "start_RH_TIBIA = last_joint_angles_2nd[RH_TIBIA] \n",
    "start_LH_TARSUS = last_joint_angles_2nd[LH_TARSUS] \n",
    "start_RH_TARSUS = last_joint_angles_2nd[RH_TARSUS]\n",
    "\n",
    "joint_lh_coxa_yaw = np.zeros((target_num_steps)) # shape (nbre_steps, )\n",
    "joint_rh_coxa_yaw = np.zeros((target_num_steps)) # shape (nbre_steps, )\n",
    "joint_lh_coxa_roll = np.zeros((target_num_steps)) # shape (nbre_steps, )\n",
    "joint_rh_coxa_roll = np.zeros((target_num_steps)) # shape (nbre_steps, )\n",
    "joint_lh_coxa = np.zeros((target_num_steps)) # shape (nbre_steps, )\n",
    "joint_rh_coxa = np.zeros((target_num_steps)) # shape (nbre_steps, )\n",
    "joint_lh_femur_roll = np.zeros((target_num_steps)) # shape (nbre_steps, )\n",
    "joint_rh_femur_roll = np.zeros((target_num_steps)) # shape (nbre_steps, )\n",
    "joint_lh_femur = np.zeros((target_num_steps))\n",
    "joint_rh_femur = np.zeros((target_num_steps))\n",
    "joint_lh_tibia = np.zeros((target_num_steps)) # shape (nbre_steps, )\n",
    "joint_rh_tibia = np.zeros((target_num_steps)) # shape (nbre_steps, )\n",
    "\n",
    "gain_COXA_ROLL =  3*np.pi/4\n",
    "gain_COXA_YAW =  1*np.pi/6\n",
    "gain_COXA = 1*np.pi/4\n",
    "gain_FEMUR_ROLL = 1*np.pi/3\n",
    "gain_FEMUR = -1*np.pi/4\n",
    "gain_TIBIA = 1*np.pi/12\n",
    "\n",
    "joint_lh_coxa_yaw[:half_nbre_steps] = np.ones(half_nbre_steps)*start_LH_COXA_YAW\n",
    "joint_lh_coxa_yaw[half_nbre_steps:] = np.linspace(start_LH_COXA_YAW, gain_COXA_YAW, nbre_steps-half_nbre_steps)\n",
    "\n",
    "joint_rh_coxa_yaw[:half_nbre_steps] = np.ones(half_nbre_steps)*start_RH_COXA_YAW\n",
    "joint_rh_coxa_yaw[half_nbre_steps:] = np.linspace(start_RH_COXA_YAW, -gain_COXA_YAW, nbre_steps-half_nbre_steps)\n",
    "\n",
    "joint_lh_coxa_roll[:half_nbre_steps] = np.linspace(start_LH_COXA_ROLL, gain_COXA_ROLL, nbre_steps-half_nbre_steps)\n",
    "joint_lh_coxa_roll[half_nbre_steps:] = np.ones(half_nbre_steps)*gain_COXA_ROLL\n",
    "\n",
    "joint_rh_coxa_roll[:half_nbre_steps] = np.linspace(start_RH_COXA_ROLL, -gain_COXA_ROLL, nbre_steps-half_nbre_steps)\n",
    "joint_rh_coxa_roll[half_nbre_steps:] = -np.ones(half_nbre_steps)*gain_COXA_ROLL\n",
    "\n",
    "# all_joint_angles_abd[:,LH_COXA_ROLL] = joint_lh_coxa_roll\n",
    "# all_joint_angles_abd[:,RH_COXA_ROLL] = joint_rh_coxa_roll\n",
    "\n",
    "# Spread hindlegs\n",
    "all_joint_angles_abd[:,LH_COXA_YAW] = joint_lh_coxa_yaw\n",
    "all_joint_angles_abd[:,RH_COXA_YAW] = joint_rh_coxa_yaw\n",
    "\n",
    "joint_lh_femur_roll[:half_nbre_steps] = np.ones(half_nbre_steps)*start_LH_FEMUR_ROLL\n",
    "joint_lh_femur_roll[half_nbre_steps:] = np.linspace(start_LH_FEMUR_ROLL, -gain_FEMUR_ROLL, nbre_steps-half_nbre_steps)\n",
    "\n",
    "joint_rh_femur_roll[:half_nbre_steps] = np.ones(half_nbre_steps)*start_RH_FEMUR_ROLL\n",
    "joint_rh_femur_roll[half_nbre_steps:] = np.linspace(start_RH_FEMUR_ROLL, gain_FEMUR_ROLL, nbre_steps-half_nbre_steps)\n",
    "\n",
    "# all_joint_angles_abd[:,LH_FEMUR_ROLL] = joint_lh_femur_roll\n",
    "# all_joint_angles_abd[:,RH_FEMUR_ROLL] = joint_rh_femur_roll\n",
    "\n",
    "# Up hindlegs\n",
    "joint_lh_coxa[:half_nbre_steps] = np.ones(half_nbre_steps)*start_LH_COXA\n",
    "joint_lh_coxa[half_nbre_steps:] = np.linspace(start_LH_COXA, gain_COXA,nbre_steps-half_nbre_steps)\n",
    "joint_rh_coxa[:half_nbre_steps] = np.ones(half_nbre_steps)*start_RH_COXA\n",
    "joint_rh_coxa[half_nbre_steps:] = np.linspace(start_RH_COXA, gain_COXA, nbre_steps-half_nbre_steps)\n",
    "\n",
    "all_joint_angles_abd[:,LH_COXA] = np.linspace(start_LH_COXA, gain_COXA, nbre_steps)\n",
    "all_joint_angles_abd[:,RH_COXA] = np.linspace(start_RH_COXA, gain_COXA, nbre_steps)\n",
    "\n",
    "joint_lh_femur[:half_nbre_steps] = np.linspace(start_LH_FEMUR, gain_FEMUR, nbre_steps-half_nbre_steps)\n",
    "joint_lh_femur[half_nbre_steps:] = np.ones(half_nbre_steps)*gain_FEMUR\n",
    "\n",
    "joint_rh_femur[:half_nbre_steps] = np.linspace(start_RH_FEMUR, gain_FEMUR, nbre_steps-half_nbre_steps)\n",
    "joint_rh_femur[half_nbre_steps:] = np.ones(half_nbre_steps)*gain_FEMUR\n",
    "\n",
    "all_joint_angles_abd[:,LH_FEMUR] = joint_lh_femur\n",
    "all_joint_angles_abd[:,RH_FEMUR] = joint_rh_femur\n",
    "\n",
    "joint_lh_tibia[:half_nbre_steps] = np.linspace(start_LH_TIBIA, gain_TIBIA, nbre_steps-half_nbre_steps) # extend the tibia\n",
    "joint_lh_tibia[half_nbre_steps:3*nbre_steps//4] = np.ones(half_nbre_steps//2)*gain_TIBIA # stay\n",
    "joint_lh_tibia[3*nbre_steps//4:] = np.linspace(gain_TIBIA, start_LH_TIBIA, half_nbre_steps//2) # retract the tibia after leg is up\n",
    "\n",
    "joint_rh_tibia[:half_nbre_steps] = np.linspace(start_RH_TIBIA, gain_TIBIA, nbre_steps-half_nbre_steps) # extend the tibia\n",
    "joint_rh_tibia[half_nbre_steps:3*nbre_steps//4] = np.ones(half_nbre_steps//2)*gain_TIBIA # stay\n",
    "joint_rh_tibia[3*nbre_steps//4:] = np.linspace(gain_TIBIA, start_RH_TIBIA, half_nbre_steps//2) # retract the tibia after leg is up\n",
    "\n",
    "# all_joint_angles_abd[:,LH_TIBIA] = joint_lh_tibia\n",
    "# all_joint_angles_abd[:,RH_TIBIA] = joint_rh_tibia\n",
    "\n",
    "all_joint_angles_abd[:,LH_TIBIA] = np.linspace(start_LH_TIBIA, 0, nbre_steps)\n",
    "all_joint_angles_abd[:,RH_TIBIA] = np.linspace(start_RH_TIBIA, 0, nbre_steps)\n",
    "\n",
    "# # Spread tarsus\n",
    "# all_joint_angles_abd[:,LH_TARSUS] = np.linspace(start_LH_TARSUS, 0, nbre_steps)\n",
    "# all_joint_angles_abd[:,RH_TARSUS] = np.linspace(start_RH_TARSUS, 0, nbre_steps)\n",
    "\n",
    "# all_joint_angles_abd[:,LH_TIBIA] = np.linspace(start_LH_TIBIA, np.pi/4, nbre_steps)\n",
    "# all_joint_angles_abd[:,RH_TIBIA] = np.linspace(start_RH_TIBIA, np.pi/4, nbre_steps)\n",
    "\n",
    "\n"
   ]
  },
  {
   "cell_type": "code",
   "execution_count": 201,
   "metadata": {},
   "outputs": [
    {
     "data": {
      "image/png": "[encoded data removed]",
      "text/plain": [
       "<Figure size 640x480 with 1 Axes>"
      ]
     },
     "metadata": {},
     "output_type": "display_data"
    }
   ],
   "source": [
    "plt.plot(all_joint_angles_abd[:,LH_COXA_YAW], label=\"LH_COXA_YAW\")\n",
    "plt.plot(all_joint_angles_abd[:,LH_COXA], label=\"LH_COXA\")\n",
    "plt.plot(all_joint_angles_abd[:,LH_FEMUR], label=\"LH_FEMUR\")\n",
    "plt.plot(all_joint_angles_abd[:,RH_COXA], label=\"RH_COXA\")\n",
    "plt.plot(all_joint_angles_abd[:,LH_TIBIA], label=\"LH_TIBIA\")\n",
    "plt.legend()\n",
    "plt.grid()"
   ]
  },
  {
   "cell_type": "code",
   "execution_count": 202,
   "metadata": {},
   "outputs": [
    {
     "name": "stdout",
     "output_type": "stream",
     "text": [
      "-1.2566370614359172 -0.7853981633974483\n"
     ]
    }
   ],
   "source": [
    "print(all_joint_angles_abd[0,LH_FEMUR], all_joint_angles_abd[-1,LH_FEMUR])"
   ]
  },
  {
   "cell_type": "markdown",
   "metadata": {},
   "source": [
    "##### Simulation"
   ]
  },
  {
   "cell_type": "code",
   "execution_count": 203,
   "metadata": {},
   "outputs": [
    {
     "name": "stderr",
     "output_type": "stream",
     "text": [
      "100%|██████████| 5000/5000 [00:41<00:00, 121.91it/s]\n"
     ]
    }
   ],
   "source": [
    "adhesion_action = np.array([0.0 if leg.endswith(\"H\") else 1.0 for leg in legs])\n",
    "\n",
    "for i in trange(nbre_steps):\n",
    "    joint_angles = all_joint_angles_abd[i,:]\n",
    "    action = {'joints': joint_angles, \"adhesion\": adhesion_action}\n",
    "    nmf.step(action)\n",
    "    nmf.render()\n",
    "\n",
    "nmf.save_video(\"./outputs/d.mp4\")\n",
    "\n",
    "# if sim_params.render_camera == \"Animat/camera_back\":\n",
    "#     nmf.save_video(\"./outputs/abd_groom_back.mp4\")\n",
    "# elif sim_params.render_camera == \"Animat/camera_left\":\n",
    "#     nmf.save_video(\"./outputs/abd_groom_left.mp4\")\n",
    "# elif sim_params.render_camera == \"Animat/camera_right\":\n",
    "#     nmf.save_video(\"./outputs/abd_groom_right.mp4\")\n",
    "# elif sim_params.render_camera == \"Animat/camera_front\":    \n",
    "#     nmf.save_video(\"./outputs/abd_groom_front.mp4\")\n",
    "# elif sim_params.render_camera == \"Animat/camera_top\":\n",
    "#     nmf.save_video(\"./outputs/abd_groom_top.mp4\")\n",
    "# elif sim_params.render_camera == \"Animat/camera_bottom\":\n",
    "#     nmf.save_video(\"./outputs/abd_groom_bottom.mp4\")\n",
    "\n",
    "last_joint_angles_abd_up = all_joint_angles_abd[-1].copy()"
   ]
  },
  {
   "cell_type": "code",
   "execution_count": 204,
   "metadata": {},
   "outputs": [],
   "source": [
    "# Touch the abdomen + rub it\n",
    "# put the tibia again at its precedent value\n",
    "all_joint_angles_abd_groom = np.tile(last_joint_angles_abd_up,(nbre_steps,1)) # shape (nbre_steps, 47)\n",
    "\n",
    "# all_joint_angles_abd_groom[:,LH_FEMUR] = np.linspace(last_joint_angles_abd_up[LH_FEMUR], start_LH_FEMUR//2, half_nbre_steps)\n",
    "# all_joint_angles_abd_groom[:,RH_FEMUR] = np.linspace(last_joint_angles_abd_up[RH_FEMUR], start_RH_FEMUR//2, half_nbre_steps)\n",
    "# all_joint_angles_abd_groom[:,LH_TIBIA] = np.linspace(last_joint_angles_abd_up[LH_TIBIA], np.pi/4, half_nbre_steps)\n",
    "# all_joint_angles_abd_groom[:,RH_TIBIA] = np.linspace(last_joint_angles_abd_up[RH_TIBIA], np.pi/4, half_nbre_steps)\n",
    "\n",
    "_lh_coxa_yaw = np.zeros((target_num_steps))\n",
    "_rh_coxa_yaw = np.zeros((target_num_steps))\n",
    "_lh_femur_ = np.zeros((target_num_steps))\n",
    "_rh_femur_ = np.zeros((target_num_steps))\n",
    "_lh_tibia_ = np.zeros((target_num_steps))\n",
    "_rh_tibia_ = np.zeros((target_num_steps))\n",
    "\n",
    "_lh_coxa_yaw[:half_nbre_steps] = np.ones(half_nbre_steps)*(last_joint_angles_abd_up[LH_FEMUR_ROLL])\n",
    "_lh_coxa_yaw[half_nbre_steps:] = np.linspace(last_joint_angles_abd_up[LH_FEMUR_ROLL], -start_LH_FEMUR_ROLL//2, half_nbre_steps)\n",
    "_rh_coxa_yaw[:half_nbre_steps] = np.ones(half_nbre_steps)*(last_joint_angles_abd_up[RH_FEMUR_ROLL])\n",
    "_rh_coxa_yaw[half_nbre_steps:] = np.linspace(last_joint_angles_abd_up[RH_FEMUR_ROLL], start_RH_FEMUR_ROLL//2, half_nbre_steps)\n",
    "\n",
    "_rh_tibia_[:half_nbre_steps] = np.linspace(last_joint_angles_abd_up[RH_TIBIA], np.pi/6, half_nbre_steps)\n",
    "_rh_tibia_[half_nbre_steps:] = np.ones(half_nbre_steps)*(np.pi/6)\n",
    "_lh_tibia_[:half_nbre_steps] = np.linspace(last_joint_angles_abd_up[LH_TIBIA], np.pi/6, half_nbre_steps)\n",
    "_lh_tibia_[half_nbre_steps:] = np.ones(half_nbre_steps)*(np.pi/6)\n",
    "\n",
    "_rh_femur_[:half_nbre_steps] = np.linspace(last_joint_angles_abd_up[RH_FEMUR], start_RH_FEMUR//2, half_nbre_steps)\n",
    "_rh_femur_[half_nbre_steps:] = np.ones(half_nbre_steps)*(start_RH_FEMUR//2)\n",
    "_lh_femur_[:half_nbre_steps] = np.linspace(last_joint_angles_abd_up[LH_FEMUR], start_LH_FEMUR//2, half_nbre_steps)\n",
    "_lh_femur_[half_nbre_steps:] = np.ones(half_nbre_steps)*(start_RH_FEMUR//2)\n",
    "\n",
    "\n",
    "all_joint_angles_abd_groom[:,LH_FEMUR_ROLL] = _lh_coxa_yaw\n",
    "all_joint_angles_abd_groom[:,RH_FEMUR_ROLL] = _rh_coxa_yaw\n",
    "all_joint_angles_abd_groom[:,LH_FEMUR] = _lh_femur_\n",
    "all_joint_angles_abd_groom[:,LH_TIBIA] = _lh_tibia_\n",
    "all_joint_angles_abd_groom[:,RH_FEMUR] = _rh_femur_\n",
    "all_joint_angles_abd_groom[:,RH_TIBIA] = _rh_tibia_\n",
    "\n"
   ]
  },
  {
   "cell_type": "code",
   "execution_count": 205,
   "metadata": {},
   "outputs": [
    {
     "name": "stdout",
     "output_type": "stream",
     "text": [
      "-0.2617993877991494 -0.2617993877991494\n",
      "-0.2617993877991494 -0.2617993877991494\n"
     ]
    },
    {
     "data": {
      "image/png": "[encoded data removed]",
      "text/plain": [
       "<Figure size 640x480 with 1 Axes>"
      ]
     },
     "metadata": {},
     "output_type": "display_data"
    }
   ],
   "source": [
    "print(all_joint_angles_abd_groom[0,LH_TARSUS], all_joint_angles_abd_groom[-1,LH_TARSUS])\n",
    "print(start_RH_TARSUS, start_LH_TARSUS)\n",
    "\n",
    "plt.plot(all_joint_angles_abd_groom[:,LH_TARSUS], label=\"LH_TARSUS\")\n",
    "plt.plot(all_joint_angles_abd_groom[:,RH_TARSUS], label=\"RH_TARSUS\")\n",
    "plt.legend()\n",
    "plt.grid()"
   ]
  },
  {
   "cell_type": "code",
   "execution_count": 206,
   "metadata": {},
   "outputs": [
    {
     "data": {
      "image/png": "[encoded data removed]",
      "text/plain": [
       "<Figure size 640x480 with 1 Axes>"
      ]
     },
     "metadata": {},
     "output_type": "display_data"
    }
   ],
   "source": [
    "plt.plot(all_joint_angles_abd_groom[:,LH_FEMUR_ROLL], label=\"LH_FEMUR_ROLL\")\n",
    "plt.plot(all_joint_angles_abd_groom[:,RH_FEMUR_ROLL], label=\"RH_FEMUR_ROLL\")\n",
    "plt.legend()\n",
    "plt.grid()"
   ]
  },
  {
   "cell_type": "code",
   "execution_count": 207,
   "metadata": {},
   "outputs": [
    {
     "data": {
      "image/png": "[encoded data removed]",
      "text/plain": [
       "<Figure size 640x480 with 1 Axes>"
      ]
     },
     "metadata": {},
     "output_type": "display_data"
    }
   ],
   "source": [
    "plt.plot(all_joint_angles_abd_groom[:,LH_COXA], label=\"LH_COXA\")\n",
    "plt.plot(all_joint_angles_abd_groom[:,LH_COXA_YAW], label=\"LH_YAW\")\n",
    "plt.plot(all_joint_angles_abd_groom[:,LH_COXA_ROLL], label=\"LH_ROLL\")\n",
    "plt.plot(all_joint_angles_abd_groom[:,RH_COXA_ROLL], label=\"RH_ROLL\")\n",
    "plt.plot(all_joint_angles_abd_groom[:,LH_FEMUR], label=\"LH_FEMUR\")\n",
    "plt.plot(all_joint_angles_abd_groom[:,LH_TIBIA], label=\"LH_TIBIA\")\n",
    "plt.legend()\n",
    "plt.grid()"
   ]
  },
  {
   "cell_type": "code",
   "execution_count": 208,
   "metadata": {},
   "outputs": [
    {
     "name": "stderr",
     "output_type": "stream",
     "text": [
      "100%|██████████| 5000/5000 [00:37<00:00, 131.68it/s]\n"
     ]
    }
   ],
   "source": [
    "adhesion_action = np.array([0.0 if leg.endswith(\"H\") else 1.0 for leg in legs])\n",
    "\n",
    "for i in trange(nbre_steps):\n",
    "    joint_angles = all_joint_angles_abd_groom[i,:]\n",
    "    action = {'joints': joint_angles, \"adhesion\": adhesion_action}\n",
    "    nmf.step(action)\n",
    "    nmf.render()\n",
    "\n",
    "if sim_params.render_camera == \"Animat/camera_back\":\n",
    "    nmf.save_video(\"./outputs/abd_groom_back.mp4\")\n",
    "elif sim_params.render_camera == \"Animat/camera_left\":\n",
    "    nmf.save_video(\"./outputs/abd_groom_left.mp4\")\n",
    "elif sim_params.render_camera == \"Animat/camera_right\":\n",
    "    nmf.save_video(\"./outputs/abd_groom_right.mp4\")\n",
    "elif sim_params.render_camera == \"Animat/camera_front\":    \n",
    "    nmf.save_video(\"./outputs/abd_groom_front.mp4\")\n",
    "elif sim_params.render_camera == \"Animat/camera_top\":\n",
    "    nmf.save_video(\"./outputs/abd_groom_top.mp4\")\n",
    "elif sim_params.render_camera == \"Animat/camera_bottom\":\n",
    "    nmf.save_video(\"./outputs/abd_groom_bottom.mp4\")\n",
    "\n",
    "last_joint_angles_abd_groom = all_joint_angles_abd_groom[-1].copy()"
   ]
  },
  {
   "cell_type": "markdown",
   "metadata": {},
   "source": [
    "#### Groom abdomen\n",
    "1. move up un peu l'abdomen\n",
    "2. check les dernières positions des hindlegs\n",
    "3. écarter les pattes arrière ---> changer COXA YAW\n",
    "4. lever les pattes arrière ---> changer FEMUR PITCH\n",
    "5. abaisser (à plat) la pattes arrière ---> changer FEMUR ROLL\n",
    "6. "
   ]
  },
  {
   "cell_type": "markdown",
   "metadata": {},
   "source": [
    "#### Move the hind legs up"
   ]
  },
  {
   "cell_type": "markdown",
   "metadata": {},
   "source": [
    "#### Load grooming position of frontleg"
   ]
  },
  {
   "cell_type": "code",
   "execution_count": 209,
   "metadata": {},
   "outputs": [],
   "source": [
    "# grooming_module_path = Path(\"./data/grooming_modules_provided_slow.pkl\")\n",
    "# with open(grooming_module_path, \"rb\") as f:\n",
    "#     grooming_modules = pickle.load(f)\n",
    "\n",
    "# timestep_groom = grooming_modules[\"timestep\"]\n",
    "# target_num_steps_groom = int(1.0 / timestep_groom) # 10'000\n",
    "# target_joint_angles_front = grooming_modules[\"foreleg\"][:, :target_num_steps]\n"
   ]
  },
  {
   "cell_type": "code",
   "execution_count": 210,
   "metadata": {},
   "outputs": [],
   "source": [
    "# # all_joint_angles.shape() = (10000, 42)\n",
    "# # my all_joint_angles_groom_shape() = (558, 21)\n",
    "\n",
    "# # need to map the 21 joints to the 42 joints\n",
    "# target_joint_angles_front = target_joint_angles_front.T # (558, 21)\n",
    "# target_joint_angles_front = np.tile(target_joint_angles_front, (18, 1)) # (10044, 21)\n",
    "\n",
    "# joint_LHCoxa = target_joint_angles_front[:,3]"
   ]
  },
  {
   "cell_type": "code",
   "execution_count": 211,
   "metadata": {},
   "outputs": [],
   "source": [
    "# print(joint_LHCoxa.shape)\n",
    "# print(joint_LHCoxa[:target_num_steps].shape)\n",
    "# test = np.ones((target_num_steps, len(all_joint_angles[0])))\n",
    "# print(test.shape)\n",
    "# print(target_num_steps)"
   ]
  },
  {
   "cell_type": "markdown",
   "metadata": {},
   "source": [
    "#### Map the grooming position of the leg to the corresponding body part."
   ]
  },
  {
   "cell_type": "code",
   "execution_count": 212,
   "metadata": {},
   "outputs": [],
   "source": [
    "# joint_LHCoxa = target_joint_angles_front[:,3]\n",
    "# joint_LHCoxa_roll = target_joint_angles_front[:,4]\n",
    "# joint_LHCoxa_yaw = target_joint_angles_front[:,5]\n",
    "# joint_LHFemur = target_joint_angles_front[:,6]\n",
    "# joint_LHFemur_roll = target_joint_angles_front[:,7]\n",
    "# joint_LHTibia = target_joint_angles_front[:,8]\n",
    "# joint_LHTarsus = target_joint_angles_front[:,9]\n",
    "# joint_RHCoxa = target_joint_angles_front[:,10]\n",
    "# joint_RHCoxa_roll = target_joint_angles_front[:,11]\n",
    "# joint_RHCoxa_yaw = target_joint_angles_front[:,12]\n",
    "# joint_RHFemur = target_joint_angles_front[:,13]\n",
    "# joint_RHFemur_roll = target_joint_angles_front[:,14]\n",
    "# joint_RHTibia = target_joint_angles_front[:,15]\n",
    "# joint_RHTarsus = target_joint_angles_front[:,16]\n",
    "\n",
    "\n",
    "# all_joint_angles = np.ones((target_num_steps, len(all_joint_angles[0]))) # 10000, 42\n",
    "# print(all_joint_angles.shape)\n",
    "\n",
    "# all_joint_angles[:,14] = joint_LHCoxa[:target_num_steps] # jusqu'à 10'000\n",
    "# all_joint_angles[:,15] = joint_LHCoxa_roll[:target_num_steps]\n",
    "# all_joint_angles[:,16] = joint_LHCoxa_yaw[:target_num_steps]\n",
    "# all_joint_angles[:,17] = joint_LHFemur[:target_num_steps]\n",
    "# all_joint_angles[:,18] = joint_LHFemur_roll[:target_num_steps]\n",
    "# all_joint_angles[:,19] = joint_LHTibia[:target_num_steps]\n",
    "# all_joint_angles[:,20] = joint_LHTarsus[:target_num_steps]\n",
    "# all_joint_angles[:,35] = joint_RHCoxa[:target_num_steps]\n",
    "# all_joint_angles[:,36] = joint_RHCoxa_roll[:target_num_steps]\n",
    "# all_joint_angles[:,37] = joint_RHCoxa_yaw[:target_num_steps]\n",
    "# all_joint_angles[:,38] = joint_RHFemur[:target_num_steps]\n",
    "# all_joint_angles[:,39] = joint_RHFemur_roll[:target_num_steps]\n",
    "# all_joint_angles[:,40] = joint_RHTibia[:target_num_steps]\n",
    "# all_joint_angles[:,41] = joint_RHTarsus[:target_num_steps]\n"
   ]
  }
 ],
 "metadata": {
  "kernelspec": {
   "display_name": "flygym",
   "language": "python",
   "name": "python3"
  },
  "language_info": {
   "codemirror_mode": {
    "name": "ipython",
    "version": 3
   },
   "file_extension": ".py",
   "mimetype": "text/x-python",
   "name": "python",
   "nbconvert_exporter": "python",
   "pygments_lexer": "ipython3",
   "version": "3.11.7"
  }
 },
 "nbformat": 4,
 "nbformat_minor": 2
}
