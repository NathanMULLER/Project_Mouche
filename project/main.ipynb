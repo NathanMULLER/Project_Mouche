{
 "cells": [
  {
   "cell_type": "code",
   "execution_count": 1,
   "metadata": {},
   "outputs": [],
   "source": [
    "import numpy as np\n",
    "import pickle\n",
    "import matplotlib.pyplot as plt\n",
    "from pathlib import Path\n",
    "from tqdm import trange\n",
    "\n",
    "\n",
    "import flygym.common\n",
    "import flygym.mujoco\n",
    "import flygym.mujoco.preprogrammed\n",
    "\n",
    "from flygym.mujoco.arena.base import BaseArena, FlatTerrain\n",
    "from flygym.mujoco import Parameters\n",
    "\n",
    "from nmf_project import (\n",
    "    NeuromechflyProject,\n",
    "    all_actuated_dof,)\n",
    "\n",
    "\n",
    "from nmf_grooming import (\n",
    "    NeuromechflyGrooming,\n",
    "    all_groom_dofs,\n",
    "    load_grooming_data,\n",
    "    plot_state_and_contacts,\n",
    ")\n",
    "from scipy.signal import find_peaks, medfilt\n",
    "from IPython.display import Video\n",
    "\n",
    "from flygym.mujoco.examples.rule_based_controller import PreprogrammedSteps"
   ]
  },
  {
   "cell_type": "code",
   "execution_count": 2,
   "metadata": {},
   "outputs": [],
   "source": [
    "run_time = 1\n",
    "\n",
    "sim_params = flygym.mujoco.Parameters(\n",
    "    timestep=1e-4,\n",
    "    render_mode=\"saved\",\n",
    "    render_playspeed=0.2,\n",
    "    enable_adhesion=True,\n",
    "    draw_adhesion=True,\n",
    ")\n",
    "\n",
    "actuated_joints = flygym.mujoco.preprogrammed.all_leg_dofs"
   ]
  },
  {
   "cell_type": "code",
   "execution_count": 3,
   "metadata": {},
   "outputs": [],
   "source": [
    "target_num_steps = int(run_time / sim_params.timestep) # 10'000\n"
   ]
  },
  {
   "cell_type": "code",
   "execution_count": 4,
   "metadata": {},
   "outputs": [],
   "source": [
    "nmf = flygym.mujoco.NeuroMechFly(Parameters(\n",
    "    enable_adhesion=True, \n",
    "    draw_adhesion=True,\n",
    "    render_camera=\"Animat/camera_left\"))\n",
    "\n",
    "preprogrammed_steps = PreprogrammedSteps()\n",
    "\n",
    "swing_periods = preprogrammed_steps.swing_period\n",
    "\n",
    "legs = preprogrammed_steps.legs\n",
    "\n",
    "actuated_joints = preprogrammed_steps.dofs_per_leg\n",
    "\n",
    "standing_action = []\n",
    "\n",
    "for leg in legs:\n",
    "    if leg.endswith(\"M\"):\n",
    "        standing_action.extend(preprogrammed_steps.get_joint_angles(leg, swing_periods[leg][1]))\n",
    "    else:\n",
    "        standing_action.extend(preprogrammed_steps.get_joint_angles(leg, 0.0))\n",
    "\n",
    "standing_action = {'joints': standing_action, \"adhesion\": np.zeros(len(legs))}\n",
    "\n",
    "for i in range(int(0.2//nmf.timestep)):\n",
    "    nmf.step(standing_action)\n",
    "\n"
   ]
  },
  {
   "cell_type": "code",
   "execution_count": 5,
   "metadata": {},
   "outputs": [
    {
     "name": "stderr",
     "output_type": "stream",
     "text": [
      "100%|██████████| 10000/10000 [00:40<00:00, 245.59it/s]\n"
     ]
    }
   ],
   "source": [
    "nmf.reset()\n",
    "foreleg_ids = np.zeros(target_num_steps)\n",
    "middle_stance_ids = np.linspace(swing_periods[\"RM\"][1], -1/4*np.pi, target_num_steps)\n",
    "hind_swings_ids = np.zeros(target_num_steps)\n",
    "\n",
    "adhesion_action = np.array([1.0 if leg.endswith(\"F\") else 0.0 for leg in legs])\n",
    "all_joint_angles = []\n",
    "\n",
    "for i in trange(target_num_steps):\n",
    "    joint_angles = []\n",
    "    for leg in legs:\n",
    "        if leg.endswith(\"H\"):\n",
    "            joint_angles.extend(preprogrammed_steps.get_joint_angles(leg, hind_swings_ids[i]))\n",
    "        elif leg.endswith(\"M\"):\n",
    "            joint_angles.extend(preprogrammed_steps.get_joint_angles(leg, middle_stance_ids[i]))\n",
    "        else:\n",
    "            joint_angles.extend(preprogrammed_steps.get_joint_angles(leg, foreleg_ids[i]))\n",
    "    all_joint_angles.append(joint_angles.copy())\n",
    "\n",
    "    action = {'joints': np.array(joint_angles), \"adhesion\": adhesion_action}\n",
    "    nmf.step(action)\n",
    "    nmf.render()\n",
    "nmf.save_video(\"./outputs/b.mp4\")\n",
    "\n",
    "last_joint_angles = all_joint_angles[-1]\n"
   ]
  },
  {
   "cell_type": "code",
   "execution_count": null,
   "metadata": {},
   "outputs": [],
   "source": [
    "plt.plot(all_joint_angles)"
   ]
  },
  {
   "cell_type": "code",
   "execution_count": null,
   "metadata": {},
   "outputs": [],
   "source": [
    "plt.plot(last_joint_angles)\n",
    "print(len(last_joint_angles))\n",
    "print(last_joint_angles)"
   ]
  },
  {
   "cell_type": "code",
   "execution_count": null,
   "metadata": {},
   "outputs": [],
   "source": [
    "Video(\"./outputs/b.mp4\")"
   ]
  },
  {
   "cell_type": "markdown",
   "metadata": {},
   "source": [
    "#### Try to move abdoment but didn't work out"
   ]
  },
  {
   "cell_type": "code",
   "execution_count": null,
   "metadata": {},
   "outputs": [],
   "source": [
    "# Try to move abdomen, didn't work out\n",
    "\n",
    "# from example given in miniproject\n",
    "# abdomen_control = np.sin(\n",
    "#     2 * 2 * np.pi * np.linspace(0, 0.5, nbre_steps) / 0.5\n",
    "# )\n",
    "# abdomen_control = abdomen_control * np.pi / 5 + np.pi / 10\n",
    "# abdomen_control = np.tile(abdomen_control, (5, 1)).T # shape (nbre_steps, 5)\n",
    "\n",
    "\n",
    "# for i in range(len(all_actuated_dof)):\n",
    "#     if i == 42: # LPedicel\n",
    "#         all_joint_pos[:,i] = np.linspace(0,0, nbre_steps)\n",
    "#     elif i == 43: # LPedicel_yaw\n",
    "#         all_joint_pos[:,i] = np.linspace(0, 0, nbre_steps)\n",
    "#     elif i == 44: # RPedicel\n",
    "#         all_joint_pos[:,i] = np.linspace(0, 0, nbre_steps)\n",
    "#     elif i == 45: # RPedicel_yaw\n",
    "#         all_joint_pos[:,i] = np.linspace(0, 0, nbre_steps)\n",
    "#     elif i == 46: # A1A2\n",
    "#         all_joint_pos[:,i] = np.linspace(0, np.pi/6, nbre_steps)\n",
    "#     elif i == 47: # A3\n",
    "#         all_joint_pos[:,i] = np.linspace(0, np.pi/6, nbre_steps)\n",
    "#     elif i == 48 : # A4\n",
    "#         all_joint_pos[:,i] = np.linspace(0, np.pi/6, nbre_steps)\n",
    "#     elif i == 49 : # A5\n",
    "#         all_joint_pos[:,i] = np.linspace(0, np.pi/6, nbre_steps)\n",
    "#     elif i == 50 : # A6\n",
    "#         all_joint_pos[:,i] = np.linspace(0, np.pi/6, nbre_steps)\n",
    "#     else:\n",
    "    # all_joint_pos[:,i] = np.linspace(last_joint_angles[i], last_joint_angles[i], nbre_steps)\n",
    "\n",
    "\n",
    "# pedicel_arr = np.zeros((nbre_steps, 4))\n",
    "# abd_arr = 0.25*np.ones((nbre_steps, 5))\n",
    "# all_joint_pos = np.concatenate([all_joint_pos,pedicel_arr, abd_arr], axis=1)\n",
    "# print(all_joint_pos.shape)\n",
    "# leg_action = []\n",
    "# for leg in preprogrammed_steps.legs:\n",
    "#     # fly is standing\n",
    "#     leg_action.extend(preprogrammed_steps.get_joint_angles(leg, 0.0))\n",
    "# adhesion_action = np.array([0.0 if leg.endswith(\"H\") else 1.0 for leg in legs])"
   ]
  },
  {
   "cell_type": "markdown",
   "metadata": {},
   "source": [
    "#### Move Abdomen up for Hindleg grooming"
   ]
  },
  {
   "cell_type": "code",
   "execution_count": 6,
   "metadata": {},
   "outputs": [
    {
     "name": "stderr",
     "output_type": "stream",
     "text": [
      "100%|██████████| 5000/5000 [00:19<00:00, 256.59it/s]\n"
     ]
    }
   ],
   "source": [
    "# Move Abdomen Up\n",
    "nbre_steps = 5000\n",
    "\n",
    "nmf_act_abd = NeuromechflyProject(Parameters(timestep=1e-4,\n",
    "    render_mode=\"saved\",\n",
    "    render_playspeed=0.2,\n",
    "    enable_adhesion=True,\n",
    "    draw_adhesion=True,\n",
    "    render_camera=\"Animat/camera_left\",))\n",
    "\n",
    "# Actuate abdomen --> move up to reach horizontal position\n",
    "abdomen_control = 0.25*np.ones((nbre_steps, 4)) # shape (nbre_steps, 4)\n",
    "last_abd_ctrl = 0.2*np.ones((nbre_steps,1)) # shape (nbre_steps, 1)\n",
    "abdomen_control = np.concatenate([abdomen_control, last_abd_ctrl], axis=1) # shape (nbre_steps, 5)\n",
    "\n",
    "# Keep last position of the abdomen\n",
    "last_abd_pos = abdomen_control[-1,:] # shape (1,5)\n",
    "\n",
    "# Keep all other joints at last position during the whole movement  \n",
    "joint_pos = np.tile(last_joint_angles, (nbre_steps, 1)) # shape (nbre_steps, 42)\n",
    "\n",
    "# Add abdomen control to all joint positions\n",
    "all_joint_pos = np.concatenate([joint_pos, abdomen_control], axis=1) # shape (nbre_steps, 47)\n",
    "\n",
    "# Reset the simulation\n",
    "nmf_act_abd.reset()\n",
    "\n",
    "\n",
    "for i in trange(nbre_steps):\n",
    "    joint_angles = all_joint_pos[i,:]\n",
    "    action = {'joints': joint_angles, \"adhesion\": adhesion_action}\n",
    "    nmf_act_abd.step(action)\n",
    "    nmf_act_abd.render()\n",
    "\n",
    "nmf_act_abd.save_video(\"./outputs/up_abd.mp4\")"
   ]
  },
  {
   "cell_type": "code",
   "execution_count": null,
   "metadata": {},
   "outputs": [],
   "source": [
    "Video(\"./outputs/up_abd.mp4\")"
   ]
  },
  {
   "cell_type": "markdown",
   "metadata": {},
   "source": [
    "##### Plot leg action / last joint to see what was what"
   ]
  },
  {
   "cell_type": "code",
   "execution_count": null,
   "metadata": {},
   "outputs": [],
   "source": [
    "leg_action = []\n",
    "for leg in preprogrammed_steps.legs:\n",
    "    # fly is standing\n",
    "    leg_action.extend(preprogrammed_steps.get_joint_angles(leg, 0.0))\n",
    "adhesion_action = np.array([0.0 if leg.endswith(\"H\") else 1.0 for leg in legs])\n",
    "\n",
    "plt.plot(leg_action)\n",
    "plt.plot(all_joint_pos[0,:], 'r')\n",
    "plt.plot(last_joint_angles, 'g')"
   ]
  },
  {
   "cell_type": "markdown",
   "metadata": {},
   "source": [
    "##### Hindleg grooming"
   ]
  },
  {
   "cell_type": "code",
   "execution_count": 7,
   "metadata": {},
   "outputs": [],
   "source": [
    "# Joint angles according to indices\n",
    "LH_COXA = 14\n",
    "LH_COXA_ROLL = 15\n",
    "LH_COXA_YAW = 16\n",
    "LH_FEMUR = 17\n",
    "LH_FEMUR_ROLL = 18\n",
    "LH_TIBIA = 19\n",
    "LH_TARSUS = 20\n",
    "\n",
    "RH_COXA = 35\n",
    "RH_COXA_ROLL = 36\n",
    "RH_COXA_YAW = 37\n",
    "RH_FEMUR = 38\n",
    "RH_FEMUR_ROLL = 39\n",
    "RH_TIBIA = 40\n",
    "RH_TARSUS = 41"
   ]
  },
  {
   "cell_type": "code",
   "execution_count": null,
   "metadata": {},
   "outputs": [],
   "source": [
    "nmf_act_abd.reset()\n",
    "\n",
    "# Move Hindleg up\n",
    "nbre_steps = 5000\n",
    "\n",
    "# Keep abdomen up\n",
    "abdomen_control = np.tile(last_abd_pos,(nbre_steps,1)) # shape (nbre_steps, 5)\n",
    "\n",
    "# Keep last position of legs\n",
    "joint_pos = np.tile(last_joint_angles, (nbre_steps, 1)) # shape (nbre_steps, 42)\n",
    "\n",
    "                                #### Move hindlegs up ####\n",
    "# Left hindleg\n",
    "joint_pos[:,LH_COXA] = np.linspace(last_joint_angles[LH_COXA], last_joint_angles[LH_COXA]+last_joint_angles[LH_COXA]/2, nbre_steps) \n",
    "joint_pos[:,LH_COXA_YAW] = np.linspace(last_joint_angles[LH_COXA_YAW], last_joint_angles[LH_COXA_YAW]-last_joint_angles[LH_COXA_YAW]/2, nbre_steps)\n",
    "joint_pos[:,LH_TIBIA] = np.linspace(last_joint_angles[LH_TIBIA], last_joint_angles[LH_TIBIA]-last_joint_angles[LH_TIBIA]/3, nbre_steps)\n",
    "#joint_pos[:,LH_TARSUS] = np.linspace(last_joint_angles[LH_TARSUS], -np.pi/12, nbre_steps)\n",
    "\n",
    "# Right hindleg\n",
    "joint_pos[:,RH_COXA] = np.linspace(last_joint_angles[RH_COXA], last_joint_angles[RH_COXA]+last_joint_angles[RH_COXA]/2, nbre_steps)\n",
    "joint_pos[:,RH_COXA_YAW] = np.linspace(last_joint_angles[RH_COXA_YAW], last_joint_angles[RH_COXA_YAW]-last_joint_angles[RH_COXA_YAW]/2, nbre_steps)\n",
    "joint_pos[:,RH_TIBIA] = np.linspace(last_joint_angles[RH_TIBIA], last_joint_angles[RH_TIBIA]-last_joint_angles[RH_TIBIA]/2, nbre_steps) \n",
    "#joint_pos[:,RH_TARSUS] = np.linspace(last_joint_angles[RH_TARSUS], -np.pi/6, nbre_steps)\n",
    "\n",
    "\n",
    "# Add abdomen control to all joint positions\n",
    "all_joint_angles = np.concatenate([joint_pos, abdomen_control], axis=1) # shape (nbre_steps, 47)\n",
    "\n",
    "adhesion_action = np.array([0.0 if leg.endswith(\"H\") else 1.0 for leg in legs])\n",
    "\n",
    "for i in trange(nbre_steps):\n",
    "    joint_angles = all_joint_angles[i,:]\n",
    "    action = {'joints': joint_angles, \"adhesion\": adhesion_action}\n",
    "    nmf_act_abd.step(action)\n",
    "    nmf_act_abd.render()\n",
    "\n",
    "nmf_act_abd.save_video(\"./outputs/up_hind.mp4\")"
   ]
  },
  {
   "cell_type": "code",
   "execution_count": null,
   "metadata": {},
   "outputs": [],
   "source": [
    "Video(\"./outputs/up_hind.mp4\")"
   ]
  },
  {
   "cell_type": "code",
   "execution_count": 11,
   "metadata": {},
   "outputs": [
    {
     "name": "stdout",
     "output_type": "stream",
     "text": [
      "(5000, 42)\n"
     ]
    }
   ],
   "source": [
    "target_num_steps = 5000\n",
    "all_joint_angles = np.ones((target_num_steps, len(all_joint_angles[0]))) # shape (nbre_steps, 42)\n",
    "print(all_joint_angles.shape)\n",
    "\n",
    "for i in range(len(all_joint_angles[0])):\n",
    "    if i == 5: # LF tibia\n",
    "        all_joint_angles[:,i] = np.linspace(last_joint_angles[5], 1/3*np.pi, target_num_steps)\n",
    "    elif i == 6 : # LF tarsus\n",
    "        all_joint_angles[:,i] = np.linspace(last_joint_angles[6], 0, target_num_steps)\n",
    "    elif i == 12: # LM tibia\n",
    "        all_joint_angles[:,i] = np.linspace(last_joint_angles[12], 1/3*np.pi, target_num_steps)\n",
    "    elif i == 13: # LM tarsus\n",
    "        all_joint_angles[:,i] = np.linspace(last_joint_angles[13], 0, target_num_steps)\n",
    "    elif i == 26: # RF tibia\n",
    "        all_joint_angles[:,i] = np.linspace(last_joint_angles[26], 1/3*np.pi, target_num_steps)\n",
    "    elif i == 27: # RF tarsus\n",
    "        all_joint_angles[:,i] = np.linspace(last_joint_angles[27], 0, target_num_steps)\n",
    "    elif i == 33: # RM tibia\n",
    "        all_joint_angles[:,i] = np.linspace(last_joint_angles[33], 1/3*np.pi, target_num_steps)\n",
    "    elif i == 34: # RM tarsus\n",
    "        all_joint_angles[:,i] = np.linspace(last_joint_angles[34], 0, target_num_steps)\n",
    "    else:\n",
    "        all_joint_angles[:,i] = np.linspace(last_joint_angles[i], last_joint_angles[i], target_num_steps)\n",
    "\n",
    "all_joint_angles = np.concatenate([all_joint_angles, abdomen_control], axis=1)\n",
    "\n",
    "adhesion_action = np.array([0.0 if leg.endswith(\"H\") else 1.0 for leg in legs])\n",
    "\n",
    "for i in range(target_num_steps):\n",
    "    joint_angles = all_joint_angles[i,:]\n",
    "    action = {'joints': joint_angles, \"adhesion\": adhesion_action}\n",
    "    nmf_act_abd.step(action)\n",
    "    nmf_act_abd.render()\n",
    "nmf_act_abd.save_video(\"./outputs/c.mp4\")"
   ]
  },
  {
   "cell_type": "code",
   "execution_count": null,
   "metadata": {},
   "outputs": [],
   "source": [
    "nmf_act_abd.reset()\n",
    "all_joint_angles = np.ones((target_num_steps, len(all_joint_angles[0])))\n",
    "\n",
    "if i == 9: # LH Tarsus\n",
    "    all_joint_angles[:,i] = np.linspace(last_joint_angles[9], 0, target_num_steps)\n",
    "elif i == 41: # RH Tarsus\n",
    "    all_joint_angles[:,i] = np.linspace(last_joint_angles[41], 0, target_num_steps)\n",
    "\n",
    "for i in trange(target_num_steps):\n",
    "    joint_angles = all_joint_angles[i,:]\n",
    "    action = {\"joints\": joint_angles, \"adhesion\" : np.array([1,1,0,1,1,0])}\n",
    "    #print(\"prog_action\", action,'\\n')\n",
    "    nmf_act_abd.step(action)\n",
    "    nmf_act_abd.render()\n",
    "nmf_act_abd.save_video(\"./outputs/c.mp4\")"
   ]
  },
  {
   "cell_type": "code",
   "execution_count": null,
   "metadata": {},
   "outputs": [],
   "source": [
    "Video(\"./outputs/c.mp4\")"
   ]
  },
  {
   "cell_type": "code",
   "execution_count": null,
   "metadata": {},
   "outputs": [],
   "source": [
    "# plot hindleg joint positions\n",
    "plt.figure(figsize=(15, 5))\n",
    "plt.plot(all_joint_angles[:,8:9], label=[\"LH Tibia\",\"LH Tarsus\"])\n",
    "plt.plot(all_joint_angles[:,14:15], label=[\"RH Tibia\",\"RH Tarsus\"])\n",
    "plt.title(\"Hindleg joint positions\")\n",
    "plt.xlabel(\"Time step\")\n",
    "plt.ylabel(\"Joint angle\")\n",
    "plt.legend()\n",
    "plt.show()"
   ]
  },
  {
   "cell_type": "code",
   "execution_count": null,
   "metadata": {},
   "outputs": [],
   "source": [
    "observ = nmf.get_observation()\n",
    "print(observ[\"end_effectors\"])"
   ]
  },
  {
   "cell_type": "markdown",
   "metadata": {},
   "source": [
    "#### Load grooming position of frontleg"
   ]
  },
  {
   "cell_type": "code",
   "execution_count": null,
   "metadata": {},
   "outputs": [],
   "source": [
    "grooming_module_path = Path(\"./data/grooming_modules_provided_slow.pkl\")\n",
    "with open(grooming_module_path, \"rb\") as f:\n",
    "    grooming_modules = pickle.load(f)\n",
    "\n",
    "timestep_groom = grooming_modules[\"timestep\"]\n",
    "target_num_steps_groom = int(1.0 / timestep_groom) # 10'000\n",
    "target_joint_angles_front = grooming_modules[\"foreleg\"][:, :target_num_steps]\n"
   ]
  },
  {
   "cell_type": "code",
   "execution_count": null,
   "metadata": {},
   "outputs": [],
   "source": [
    "# all_joint_angles.shape() = (10000, 42)\n",
    "# my all_joint_angles_groom_shape() = (558, 21)\n",
    "\n",
    "# need to map the 21 joints to the 42 joints\n",
    "target_joint_angles_front = target_joint_angles_front.T # (558, 21)\n",
    "target_joint_angles_front = np.tile(target_joint_angles_front, (18, 1)) # (10044, 21)\n",
    "\n",
    "joint_LHCoxa = target_joint_angles_front[:,3]"
   ]
  },
  {
   "cell_type": "code",
   "execution_count": null,
   "metadata": {},
   "outputs": [],
   "source": [
    "print(joint_LHCoxa.shape)\n",
    "print(joint_LHCoxa[:target_num_steps].shape)\n",
    "test = np.ones((target_num_steps, len(all_joint_angles[0])))\n",
    "print(test.shape)\n",
    "print(target_num_steps)"
   ]
  },
  {
   "cell_type": "markdown",
   "metadata": {},
   "source": [
    "#### Map the grooming position of the leg to the corresponding body part."
   ]
  },
  {
   "cell_type": "code",
   "execution_count": null,
   "metadata": {},
   "outputs": [],
   "source": [
    "joint_LHCoxa = target_joint_angles_front[:,3]\n",
    "joint_LHCoxa_roll = target_joint_angles_front[:,4]\n",
    "joint_LHCoxa_yaw = target_joint_angles_front[:,5]\n",
    "joint_LHFemur = target_joint_angles_front[:,6]\n",
    "joint_LHFemur_roll = target_joint_angles_front[:,7]\n",
    "joint_LHTibia = target_joint_angles_front[:,8]\n",
    "joint_LHTarsus = target_joint_angles_front[:,9]\n",
    "joint_RHCoxa = target_joint_angles_front[:,10]\n",
    "joint_RHCoxa_roll = target_joint_angles_front[:,11]\n",
    "joint_RHCoxa_yaw = target_joint_angles_front[:,12]\n",
    "joint_RHFemur = target_joint_angles_front[:,13]\n",
    "joint_RHFemur_roll = target_joint_angles_front[:,14]\n",
    "joint_RHTibia = target_joint_angles_front[:,15]\n",
    "joint_RHTarsus = target_joint_angles_front[:,16]\n",
    "\n",
    "\n",
    "all_joint_angles = np.ones((target_num_steps, len(all_joint_angles[0]))) # 10000, 42\n",
    "print(all_joint_angles.shape)\n",
    "\n",
    "all_joint_angles[:,14] = joint_LHCoxa[:target_num_steps] # jusqu'à 10'000\n",
    "all_joint_angles[:,15] = joint_LHCoxa_roll[:target_num_steps]\n",
    "all_joint_angles[:,16] = joint_LHCoxa_yaw[:target_num_steps]\n",
    "all_joint_angles[:,17] = joint_LHFemur[:target_num_steps]\n",
    "all_joint_angles[:,18] = joint_LHFemur_roll[:target_num_steps]\n",
    "all_joint_angles[:,19] = joint_LHTibia[:target_num_steps]\n",
    "all_joint_angles[:,20] = joint_LHTarsus[:target_num_steps]\n",
    "all_joint_angles[:,35] = joint_RHCoxa[:target_num_steps]\n",
    "all_joint_angles[:,36] = joint_RHCoxa_roll[:target_num_steps]\n",
    "all_joint_angles[:,37] = joint_RHCoxa_yaw[:target_num_steps]\n",
    "all_joint_angles[:,38] = joint_RHFemur[:target_num_steps]\n",
    "all_joint_angles[:,39] = joint_RHFemur_roll[:target_num_steps]\n",
    "all_joint_angles[:,40] = joint_RHTibia[:target_num_steps]\n",
    "all_joint_angles[:,41] = joint_RHTarsus[:target_num_steps]\n"
   ]
  },
  {
   "cell_type": "markdown",
   "metadata": {},
   "source": [
    "#### Simulation"
   ]
  },
  {
   "cell_type": "code",
   "execution_count": null,
   "metadata": {},
   "outputs": [],
   "source": [
    "# test_front = grooming_modules[\"foreleg\"][:, :target_num_steps]\n",
    "# abd_arr = 0.25*np.ones((5, 558))\n",
    "# test_front = np.concatenate((test_front, abd_arr), axis=0)\n",
    "# print(test_front.shape)\n",
    "# print(nmf.arena)\n",
    "# print(nmf.init_pose)\n",
    "\n",
    "\n",
    "for i in trange(target_num_steps/2):\n",
    "    for k in range (len(all_joint_angles[0])):\n",
    "        if k == 9: # LH Tarsus\n",
    "            joint_angles = all_joint_angles[k,i + np.pi/2]\n",
    "        elif k == 41: # RH Tarsus\n",
    "            joint_angles = all_joint_angles[k,i + np.pi/2]\n",
    "        else:\n",
    "            joint_angles = all_joint_angles[k,i]\n",
    "    action = {\"joints\": joint_angles, \"adhesion\" : np.array([1,1,0,1,1,0])}\n",
    "    #print(\"prog_action\", action,'\\n')\n",
    "    nmf.step(action)\n",
    "    nmf.render()\n",
    "\n",
    "nmf.save_video(\"./outputs/main_groom.mp4\")"
   ]
  },
  {
   "cell_type": "code",
   "execution_count": null,
   "metadata": {},
   "outputs": [],
   "source": [
    "Video(\"./outputs/main_groom.mp4\")"
   ]
  }
 ],
 "metadata": {
  "kernelspec": {
   "display_name": "flygym",
   "language": "python",
   "name": "python3"
  },
  "language_info": {
   "codemirror_mode": {
    "name": "ipython",
    "version": 3
   },
   "file_extension": ".py",
   "mimetype": "text/x-python",
   "name": "python",
   "nbconvert_exporter": "python",
   "pygments_lexer": "ipython3",
   "version": "3.11.7"
  }
 },
 "nbformat": 4,
 "nbformat_minor": 2
}
