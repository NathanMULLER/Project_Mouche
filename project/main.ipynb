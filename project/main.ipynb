{
 "cells": [
  {
   "cell_type": "code",
   "execution_count": 1,
   "metadata": {},
   "outputs": [],
   "source": [
    "import numpy as np\n",
    "import pickle\n",
    "import matplotlib.pyplot as plt\n",
    "from pathlib import Path\n",
    "from tqdm import trange\n",
    "\n",
    "\n",
    "import flygym.common\n",
    "import flygym.mujoco\n",
    "import flygym.mujoco.preprogrammed\n",
    "\n",
    "from flygym.mujoco import Parameters\n",
    "\n",
    "\n",
    "from nmf_grooming import (\n",
    "    NeuromechflyGrooming,\n",
    "    all_groom_dofs,\n",
    "    load_grooming_data,\n",
    "    plot_state_and_contacts,\n",
    ")\n",
    "from scipy.signal import find_peaks, medfilt\n",
    "from IPython.display import Video\n",
    "\n",
    "from flygym.mujoco.examples.rule_based_controller import PreprogrammedSteps"
   ]
  },
  {
   "cell_type": "code",
   "execution_count": 24,
   "metadata": {},
   "outputs": [],
   "source": [
    "run_time = 1\n",
    "\n",
    "sim_params = flygym.mujoco.Parameters(\n",
    "    timestep=1e-4,\n",
    "    render_mode=\"saved\",\n",
    "    render_playspeed=0.2,\n",
    "    enable_adhesion=True,\n",
    "    draw_adhesion=True,\n",
    ")\n",
    "\n",
    "actuated_joints = flygym.mujoco.preprogrammed.all_leg_dofs"
   ]
  },
  {
   "cell_type": "code",
   "execution_count": 25,
   "metadata": {},
   "outputs": [],
   "source": [
    "target_num_steps = int(run_time / sim_params.timestep)\n"
   ]
  },
  {
   "cell_type": "code",
   "execution_count": 26,
   "metadata": {},
   "outputs": [],
   "source": [
    "nmf = flygym.mujoco.NeuroMechFly(Parameters(\n",
    "    enable_adhesion=True, \n",
    "    draw_adhesion=True,\n",
    "    render_camera=\"Animat/camera_left\"))\n",
    "\n",
    "preprogrammed_steps = PreprogrammedSteps()\n",
    "\n",
    "swing_periods = preprogrammed_steps.swing_period\n",
    "\n",
    "legs = preprogrammed_steps.legs\n",
    "\n",
    "actuated_joints = preprogrammed_steps.dofs_per_leg\n",
    "\n",
    "standing_action = []\n",
    "\n",
    "for leg in legs:\n",
    "    if leg.endswith(\"M\"):\n",
    "        standing_action.extend(preprogrammed_steps.get_joint_angles(leg, swing_periods[leg][1]))\n",
    "    else:\n",
    "        standing_action.extend(preprogrammed_steps.get_joint_angles(leg, 0.0))\n",
    "\n",
    "standing_action = {'joints': standing_action, \"adhesion\": np.zeros(len(legs))}\n",
    "\n",
    "for i in range(int(0.2//nmf.timestep)):\n",
    "    nmf.step(standing_action)\n",
    "\n"
   ]
  },
  {
   "cell_type": "code",
   "execution_count": 27,
   "metadata": {},
   "outputs": [],
   "source": [
    "foreleg_ids = np.zeros(target_num_steps)\n",
    "middle_stance_ids = np.linspace(swing_periods[\"RM\"][1], -1/4*np.pi, target_num_steps)\n",
    "hind_swings_ids = np.zeros(target_num_steps)\n",
    "\n",
    "adhesion_action = np.array([1.0 if leg.endswith(\"F\") else 0.0 for leg in legs])\n",
    "\n",
    "all_joint_angles = []\n",
    "\n",
    "for i in range(target_num_steps):\n",
    "    joint_angles = []\n",
    "    for leg in legs:\n",
    "        if leg.endswith(\"H\"):\n",
    "            joint_angles.extend(preprogrammed_steps.get_joint_angles(leg, hind_swings_ids[i]))\n",
    "        elif leg.endswith(\"M\"):\n",
    "            joint_angles.extend(preprogrammed_steps.get_joint_angles(leg, middle_stance_ids[i]))\n",
    "        else:\n",
    "            joint_angles.extend(preprogrammed_steps.get_joint_angles(leg, foreleg_ids[i]))\n",
    "    all_joint_angles.append(joint_angles.copy())\n",
    "\n",
    "    action = {'joints': np.array(joint_angles), \"adhesion\": adhesion_action}\n",
    "    nmf.step(action)\n",
    "    nmf.render()\n",
    "\n",
    "last_joint_angles = all_joint_angles[-1]"
   ]
  },
  {
   "cell_type": "code",
   "execution_count": 28,
   "metadata": {},
   "outputs": [],
   "source": [
    "all_joint_angles = np.ones((target_num_steps, len(all_joint_angles[0])))\n",
    "\n",
    "for i in range(len(all_joint_angles[0])):\n",
    "    if i == 5:\n",
    "        all_joint_angles[:,i] = np.linspace(last_joint_angles[5], 1/3*np.pi, target_num_steps)\n",
    "    elif i == 6 :\n",
    "        all_joint_angles[:,i] = np.linspace(last_joint_angles[6], 0, target_num_steps)\n",
    "    elif i == 12:\n",
    "        all_joint_angles[:,i] = np.linspace(last_joint_angles[12], 1/3*np.pi, target_num_steps)\n",
    "    elif i == 13:\n",
    "        all_joint_angles[:,i] = np.linspace(last_joint_angles[13], 0, target_num_steps)\n",
    "    elif i == 26:\n",
    "        all_joint_angles[:,i] = np.linspace(last_joint_angles[26], 1/3*np.pi, target_num_steps)\n",
    "    elif i == 27:\n",
    "        all_joint_angles[:,i] = np.linspace(last_joint_angles[27], 0, target_num_steps)\n",
    "    elif i == 33:\n",
    "        all_joint_angles[:,i] = np.linspace(last_joint_angles[33], 1/3*np.pi, target_num_steps)\n",
    "    elif i == 34:\n",
    "        all_joint_angles[:,i] = np.linspace(last_joint_angles[34], 0, target_num_steps)\n",
    "    else:\n",
    "        all_joint_angles[:,i] = np.linspace(last_joint_angles[i], last_joint_angles[i], target_num_steps)\n",
    "\n",
    "\n",
    "\n",
    "adhesion_action = np.array([0.0 if leg.endswith(\"H\") else 1.0 for leg in legs])\n",
    "\n",
    "for i in range(target_num_steps):\n",
    "    joint_angles = all_joint_angles[i,:]\n",
    "    action = {'joints': joint_angles, \"adhesion\": adhesion_action}\n",
    "    nmf.step(action)\n",
    "    nmf.render()\n",
    "nmf.save_video(\"./outputs/b.mp4\")"
   ]
  },
  {
   "cell_type": "code",
   "execution_count": 29,
   "metadata": {},
   "outputs": [
    {
     "data": {
      "text/html": [
       "<video src=\"./outputs/b.mp4\" controls  >\n",
       "      Your browser does not support the <code>video</code> element.\n",
       "    </video>"
      ],
      "text/plain": [
       "<IPython.core.display.Video object>"
      ]
     },
     "execution_count": 29,
     "metadata": {},
     "output_type": "execute_result"
    }
   ],
   "source": [
    "Video(\"./outputs/b.mp4\")"
   ]
  },
  {
   "cell_type": "code",
   "execution_count": null,
   "metadata": {},
   "outputs": [],
   "source": []
  }
 ],
 "metadata": {
  "kernelspec": {
   "display_name": "flygym",
   "language": "python",
   "name": "python3"
  },
  "language_info": {
   "codemirror_mode": {
    "name": "ipython",
    "version": 3
   },
   "file_extension": ".py",
   "mimetype": "text/x-python",
   "name": "python",
   "nbconvert_exporter": "python",
   "pygments_lexer": "ipython3",
   "version": "3.11.7"
  }
 },
 "nbformat": 4,
 "nbformat_minor": 2
}
