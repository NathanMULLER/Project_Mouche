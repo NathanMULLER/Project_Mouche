{
 "cells": [
  {
   "cell_type": "code",
   "execution_count": 1,
   "metadata": {},
   "outputs": [
    {
     "name": "stdout",
     "output_type": "stream",
     "text": [
      "0 joint_LFCoxa\n",
      "1 joint_LFCoxa_roll\n",
      "2 joint_LFCoxa_yaw\n",
      "3 joint_LFFemur\n",
      "4 joint_LFFemur_roll\n",
      "5 joint_LFTibia\n",
      "6 joint_LFTarsus1\n",
      "7 joint_LMCoxa\n",
      "8 joint_LMCoxa_roll\n",
      "9 joint_LMCoxa_yaw\n",
      "10 joint_LMFemur\n",
      "11 joint_LMFemur_roll\n",
      "12 joint_LMTibia\n",
      "13 joint_LMTarsus1\n",
      "14 joint_LHCoxa\n",
      "15 joint_LHCoxa_roll\n",
      "16 joint_LHCoxa_yaw\n",
      "17 joint_LHFemur\n",
      "18 joint_LHFemur_roll\n",
      "19 joint_LHTibia\n",
      "20 joint_LHTarsus1\n",
      "21 joint_RFCoxa\n",
      "22 joint_RFCoxa_roll\n",
      "23 joint_RFCoxa_yaw\n",
      "24 joint_RFFemur\n",
      "25 joint_RFFemur_roll\n",
      "26 joint_RFTibia\n",
      "27 joint_RFTarsus1\n",
      "28 joint_RMCoxa\n",
      "29 joint_RMCoxa_roll\n",
      "30 joint_RMCoxa_yaw\n",
      "31 joint_RMFemur\n",
      "32 joint_RMFemur_roll\n",
      "33 joint_RMTibia\n",
      "34 joint_RMTarsus1\n",
      "35 joint_RHCoxa\n",
      "36 joint_RHCoxa_roll\n",
      "37 joint_RHCoxa_yaw\n",
      "38 joint_RHFemur\n",
      "39 joint_RHFemur_roll\n",
      "40 joint_RHTibia\n",
      "41 joint_RHTarsus1\n",
      "42 joint_LPedicel\n",
      "43 joint_LPedicel_yaw\n",
      "44 joint_RPedicel\n",
      "45 joint_RPedicel_yaw\n",
      "46 joint_A1A2\n",
      "47 joint_A3\n",
      "48 joint_A4\n",
      "49 joint_A5\n",
      "50 joint_A6\n",
      "51\n"
     ]
    }
   ],
   "source": [
    "import numpy as np\n",
    "import pickle\n",
    "import matplotlib.pyplot as plt\n",
    "from pathlib import Path\n",
    "from tqdm import trange\n",
    "\n",
    "\n",
    "import flygym.common\n",
    "import flygym.mujoco\n",
    "import flygym.mujoco.preprogrammed\n",
    "\n",
    "from flygym.mujoco.arena.base import BaseArena, FlatTerrain\n",
    "from flygym.mujoco import Parameters\n",
    "\n",
    "from nmf_project import (\n",
    "    NeuromechflyProject,\n",
    "    all_actuated_dof,)\n",
    "\n",
    "\n",
    "from nmf_grooming import (\n",
    "    NeuromechflyGrooming,\n",
    "    all_groom_dofs,\n",
    "    load_grooming_data,\n",
    "    plot_state_and_contacts,\n",
    ")\n",
    "from scipy.signal import find_peaks, medfilt\n",
    "from IPython.display import Video\n",
    "\n",
    "from flygym.mujoco.examples.rule_based_controller import PreprogrammedSteps"
   ]
  },
  {
   "cell_type": "code",
   "execution_count": 2,
   "metadata": {},
   "outputs": [],
   "source": [
    "run_time = 1\n",
    "\n",
    "sim_params = flygym.mujoco.Parameters(\n",
    "    timestep=1e-4,\n",
    "    render_mode=\"saved\",\n",
    "    render_playspeed=0.2,\n",
    "    enable_adhesion=True,\n",
    "    draw_adhesion=True,\n",
    ")\n",
    "\n",
    "actuated_joints = flygym.mujoco.preprogrammed.all_leg_dofs"
   ]
  },
  {
   "cell_type": "code",
   "execution_count": 3,
   "metadata": {},
   "outputs": [],
   "source": [
    "target_num_steps = int(run_time / sim_params.timestep) # 10'000\n"
   ]
  },
  {
   "cell_type": "code",
   "execution_count": null,
   "metadata": {},
   "outputs": [],
   "source": [
    "nmf = flygym.mujoco.NeuroMechFly(Parameters(\n",
    "    enable_adhesion=True, \n",
    "    draw_adhesion=True,\n",
    "    render_camera=\"Animat/camera_left\"))\n",
    "\n",
    "preprogrammed_steps = PreprogrammedSteps()\n",
    "\n",
    "swing_periods = preprogrammed_steps.swing_period\n",
    "\n",
    "legs = preprogrammed_steps.legs\n",
    "\n",
    "actuated_joints = preprogrammed_steps.dofs_per_leg\n",
    "\n",
    "standing_action = []\n",
    "\n",
    "for leg in legs:\n",
    "    if leg.endswith(\"M\"):\n",
    "        standing_action.extend(preprogrammed_steps.get_joint_angles(leg, swing_periods[leg][1]))\n",
    "    else:\n",
    "        standing_action.extend(preprogrammed_steps.get_joint_angles(leg, 0.0))\n",
    "\n",
    "standing_action = {'joints': standing_action, \"adhesion\": np.zeros(len(legs))}\n",
    "\n",
    "for i in range(int(0.2//nmf.timestep)):\n",
    "    nmf.step(standing_action)\n",
    "\n"
   ]
  },
  {
   "cell_type": "code",
   "execution_count": null,
   "metadata": {},
   "outputs": [],
   "source": [
    "nmf.reset()\n",
    "foreleg_ids = np.zeros(target_num_steps)\n",
    "middle_stance_ids = np.linspace(swing_periods[\"RM\"][1], -1/4*np.pi, target_num_steps)\n",
    "hind_swings_ids = np.zeros(target_num_steps)\n",
    "\n",
    "adhesion_action = np.array([1.0 if leg.endswith(\"F\") else 0.0 for leg in legs])\n",
    "all_joint_angles = []\n",
    "\n",
    "for i in trange(target_num_steps):\n",
    "    joint_angles = []\n",
    "    for leg in legs:\n",
    "        if leg.endswith(\"H\"):\n",
    "            joint_angles.extend(preprogrammed_steps.get_joint_angles(leg, hind_swings_ids[i]))\n",
    "        elif leg.endswith(\"M\"):\n",
    "            joint_angles.extend(preprogrammed_steps.get_joint_angles(leg, middle_stance_ids[i]))\n",
    "        else:\n",
    "            joint_angles.extend(preprogrammed_steps.get_joint_angles(leg, foreleg_ids[i]))\n",
    "    all_joint_angles.append(joint_angles.copy())\n",
    "\n",
    "    action = {'joints': np.array(joint_angles), \"adhesion\": adhesion_action}\n",
    "    nmf.step(action)\n",
    "    nmf.render()\n",
    "nmf.save_video(\"./outputs/b.mp4\")\n",
    "\n",
    "last_joint_angles = all_joint_angles[-1]\n"
   ]
  },
  {
   "cell_type": "code",
   "execution_count": null,
   "metadata": {},
   "outputs": [],
   "source": [
    "Video(\"./outputs/b.mp4\")"
   ]
  },
  {
   "cell_type": "code",
   "execution_count": null,
   "metadata": {},
   "outputs": [],
   "source": [
    "len(all_actuated_dof[0])"
   ]
  },
  {
   "cell_type": "code",
   "execution_count": 6,
   "metadata": {},
   "outputs": [
    {
     "ename": "ValueError",
     "evalue": "Compile error raised by Mujoco; run again with --pymjcf_debug for additional debug information.\nError: unknown transmission target 'Animat/joint_A1A2' for actuator id = 46\nObject name = Animat/actuator_position_joint_A1A2, id = 46, line = 2735\n<position name=\"Animat/actuator_position_joint_A1A2\" class=\"Animat/\" forcelimited=\"true\" ctrlrange=\"-1000000 1000000\" forcerange=\"-inf inf\" joint=\"Animat/joint_A1A2\" kp=\"40\"/>",
     "output_type": "error",
     "traceback": [
      "\u001b[1;31m---------------------------------------------------------------------------\u001b[0m",
      "\u001b[1;31mValueError\u001b[0m                                Traceback (most recent call last)",
      "File \u001b[1;32mc:\\Users\\megou\\miniconda3\\envs\\flygym\\Lib\\site-packages\\dm_control\\mjcf\\physics.py:461\u001b[0m, in \u001b[0;36mPhysics.from_mjcf_model\u001b[1;34m(cls, mjcf_model)\u001b[0m\n\u001b[0;32m    460\u001b[0m \u001b[38;5;28;01mtry\u001b[39;00m:\n\u001b[1;32m--> 461\u001b[0m   \u001b[38;5;28;01mreturn\u001b[39;00m \u001b[38;5;28;43mcls\u001b[39;49m\u001b[38;5;241;43m.\u001b[39;49m\u001b[43mfrom_xml_string\u001b[49m\u001b[43m(\u001b[49m\u001b[43mxml_string\u001b[49m\u001b[38;5;241;43m=\u001b[39;49m\u001b[43mxml_string\u001b[49m\u001b[43m,\u001b[49m\u001b[43m \u001b[49m\u001b[43massets\u001b[49m\u001b[38;5;241;43m=\u001b[39;49m\u001b[43massets\u001b[49m\u001b[43m)\u001b[49m\n\u001b[0;32m    462\u001b[0m \u001b[38;5;28;01mexcept\u001b[39;00m \u001b[38;5;167;01mValueError\u001b[39;00m:\n",
      "File \u001b[1;32mc:\\Users\\megou\\miniconda3\\envs\\flygym\\Lib\\site-packages\\dm_control\\mujoco\\engine.py:442\u001b[0m, in \u001b[0;36mPhysics.from_xml_string\u001b[1;34m(cls, xml_string, assets)\u001b[0m\n\u001b[0;32m    430\u001b[0m \u001b[38;5;250m\u001b[39m\u001b[38;5;124;03m\"\"\"A named constructor from a string containing an MJCF XML file.\u001b[39;00m\n\u001b[0;32m    431\u001b[0m \n\u001b[0;32m    432\u001b[0m \u001b[38;5;124;03mArgs:\u001b[39;00m\n\u001b[1;32m   (...)\u001b[0m\n\u001b[0;32m    440\u001b[0m \u001b[38;5;124;03m  A new `Physics` instance.\u001b[39;00m\n\u001b[0;32m    441\u001b[0m \u001b[38;5;124;03m\"\"\"\u001b[39;00m\n\u001b[1;32m--> 442\u001b[0m model \u001b[38;5;241m=\u001b[39m \u001b[43mwrapper\u001b[49m\u001b[38;5;241;43m.\u001b[39;49m\u001b[43mMjModel\u001b[49m\u001b[38;5;241;43m.\u001b[39;49m\u001b[43mfrom_xml_string\u001b[49m\u001b[43m(\u001b[49m\u001b[43mxml_string\u001b[49m\u001b[43m,\u001b[49m\u001b[43m \u001b[49m\u001b[43massets\u001b[49m\u001b[38;5;241;43m=\u001b[39;49m\u001b[43massets\u001b[49m\u001b[43m)\u001b[49m\n\u001b[0;32m    443\u001b[0m \u001b[38;5;28;01mreturn\u001b[39;00m \u001b[38;5;28mcls\u001b[39m\u001b[38;5;241m.\u001b[39mfrom_model(model)\n",
      "File \u001b[1;32mc:\\Users\\megou\\miniconda3\\envs\\flygym\\Lib\\site-packages\\dm_control\\mujoco\\wrapper\\core.py:294\u001b[0m, in \u001b[0;36mMjModel.from_xml_string\u001b[1;34m(cls, xml_string, assets)\u001b[0m\n\u001b[0;32m    282\u001b[0m \u001b[38;5;250m\u001b[39m\u001b[38;5;124;03m\"\"\"Creates an `MjModel` instance from a model description XML string.\u001b[39;00m\n\u001b[0;32m    283\u001b[0m \n\u001b[0;32m    284\u001b[0m \u001b[38;5;124;03mArgs:\u001b[39;00m\n\u001b[1;32m   (...)\u001b[0m\n\u001b[0;32m    292\u001b[0m \u001b[38;5;124;03m  An `MjModel` instance.\u001b[39;00m\n\u001b[0;32m    293\u001b[0m \u001b[38;5;124;03m\"\"\"\u001b[39;00m\n\u001b[1;32m--> 294\u001b[0m model_ptr \u001b[38;5;241m=\u001b[39m \u001b[43m_get_model_ptr_from_xml\u001b[49m\u001b[43m(\u001b[49m\u001b[43mxml_string\u001b[49m\u001b[38;5;241;43m=\u001b[39;49m\u001b[43mxml_string\u001b[49m\u001b[43m,\u001b[49m\u001b[43m \u001b[49m\u001b[43massets\u001b[49m\u001b[38;5;241;43m=\u001b[39;49m\u001b[43massets\u001b[49m\u001b[43m)\u001b[49m\n\u001b[0;32m    295\u001b[0m \u001b[38;5;28;01mreturn\u001b[39;00m \u001b[38;5;28mcls\u001b[39m(model_ptr)\n",
      "File \u001b[1;32mc:\\Users\\megou\\miniconda3\\envs\\flygym\\Lib\\site-packages\\dm_control\\mujoco\\wrapper\\core.py:179\u001b[0m, in \u001b[0;36m_get_model_ptr_from_xml\u001b[1;34m(xml_path, xml_string, assets)\u001b[0m\n\u001b[0;32m    178\u001b[0m \u001b[38;5;28;01mif\u001b[39;00m xml_string \u001b[38;5;129;01mis\u001b[39;00m \u001b[38;5;129;01mnot\u001b[39;00m \u001b[38;5;28;01mNone\u001b[39;00m:\n\u001b[1;32m--> 179\u001b[0m   ptr \u001b[38;5;241m=\u001b[39m \u001b[43mmujoco\u001b[49m\u001b[38;5;241;43m.\u001b[39;49m\u001b[43mMjModel\u001b[49m\u001b[38;5;241;43m.\u001b[39;49m\u001b[43mfrom_xml_string\u001b[49m\u001b[43m(\u001b[49m\u001b[43mxml_string\u001b[49m\u001b[43m,\u001b[49m\u001b[43m \u001b[49m\u001b[43massets\u001b[49m\u001b[43m \u001b[49m\u001b[38;5;129;43;01mor\u001b[39;49;00m\u001b[43m \u001b[49m\u001b[43m{\u001b[49m\u001b[43m}\u001b[49m\u001b[43m)\u001b[49m\n\u001b[0;32m    180\u001b[0m \u001b[38;5;28;01melse\u001b[39;00m:\n",
      "\u001b[1;31mValueError\u001b[0m: Error: unknown transmission target 'Animat/joint_A1A2' for actuator id = 46\nObject name = Animat/actuator_position_joint_A1A2, id = 46, line = 2735",
      "\nDuring handling of the above exception, another exception occurred:\n",
      "\u001b[1;31mValueError\u001b[0m                                Traceback (most recent call last)",
      "Cell \u001b[1;32mIn[6], line 11\u001b[0m\n\u001b[0;32m      1\u001b[0m \u001b[38;5;66;03m# Move Abdomen\u001b[39;00m\n\u001b[0;32m      2\u001b[0m sim_params \u001b[38;5;241m=\u001b[39m Parameters(\n\u001b[0;32m      3\u001b[0m     timestep\u001b[38;5;241m=\u001b[39m\u001b[38;5;241m1e-4\u001b[39m,\n\u001b[0;32m      4\u001b[0m     render_mode\u001b[38;5;241m=\u001b[39m\u001b[38;5;124m\"\u001b[39m\u001b[38;5;124msaved\u001b[39m\u001b[38;5;124m\"\u001b[39m,\n\u001b[1;32m   (...)\u001b[0m\n\u001b[0;32m      8\u001b[0m     render_camera\u001b[38;5;241m=\u001b[39m\u001b[38;5;124m\"\u001b[39m\u001b[38;5;124mAnimat/camera_left\u001b[39m\u001b[38;5;124m\"\u001b[39m,\n\u001b[0;32m      9\u001b[0m )\n\u001b[1;32m---> 11\u001b[0m nmf \u001b[38;5;241m=\u001b[39m \u001b[43mNeuromechflyProject\u001b[49m\u001b[43m(\u001b[49m\n\u001b[0;32m     12\u001b[0m \u001b[43m    \u001b[49m\u001b[43msim_params\u001b[49m\u001b[38;5;241;43m=\u001b[39;49m\u001b[43msim_params\u001b[49m\u001b[43m,\u001b[49m\n\u001b[0;32m     13\u001b[0m \u001b[43m    \u001b[49m\u001b[43m)\u001b[49m\n\u001b[0;32m     15\u001b[0m nbre_steps \u001b[38;5;241m=\u001b[39m \u001b[38;5;241m5000\u001b[39m\n\u001b[0;32m     16\u001b[0m all_joint_pos \u001b[38;5;241m=\u001b[39m np\u001b[38;5;241m.\u001b[39mones((nbre_steps, \u001b[38;5;28mlen\u001b[39m(all_actuated_dof)))\n",
      "File \u001b[1;32mc:\\Users\\megou\\Documents\\EPFL\\Robotique_MA_4\\Ctrl_behav_animals\\cobar-project\\Project_Mouche\\project\\nmf_project.py:48\u001b[0m, in \u001b[0;36mNeuromechflyProject.__init__\u001b[1;34m(self, actuated_joints, **kwargs)\u001b[0m\n\u001b[0;32m     42\u001b[0m \u001b[38;5;28;01mdef\u001b[39;00m \u001b[38;5;21m__init__\u001b[39m(\n\u001b[0;32m     43\u001b[0m     \u001b[38;5;28mself\u001b[39m,\n\u001b[0;32m     44\u001b[0m     actuated_joints\u001b[38;5;241m=\u001b[39mall_actuated_dof,\n\u001b[0;32m     45\u001b[0m     \u001b[38;5;241m*\u001b[39m\u001b[38;5;241m*\u001b[39mkwargs\n\u001b[0;32m     46\u001b[0m     ):\n\u001b[1;32m---> 48\u001b[0m     \u001b[38;5;28;43msuper\u001b[39;49m\u001b[43m(\u001b[49m\u001b[43m)\u001b[49m\u001b[38;5;241;43m.\u001b[39;49m\u001b[38;5;21;43m__init__\u001b[39;49m\u001b[43m(\u001b[49m\n\u001b[0;32m     49\u001b[0m \u001b[43m        \u001b[49m\u001b[43mactuated_joints\u001b[49m\u001b[38;5;241;43m=\u001b[39;49m\u001b[43mactuated_joints\u001b[49m\u001b[43m,\u001b[49m\n\u001b[0;32m     50\u001b[0m \u001b[43m        \u001b[49m\u001b[38;5;241;43m*\u001b[39;49m\u001b[38;5;241;43m*\u001b[39;49m\u001b[43mkwargs\u001b[49m\u001b[43m)\u001b[49m\n",
      "File \u001b[1;32mc:\\users\\megou\\documents\\epfl\\robotique_ma_4\\ctrl_behav_animals\\flygym\\flygym\\mujoco\\core.py:507\u001b[0m, in \u001b[0;36mNeuroMechFly.__init__\u001b[1;34m(self, sim_params, actuated_joints, contact_sensor_placements, output_dir, arena, xml_variant, spawn_pos, spawn_orientation, control, init_pose, floor_collisions, self_collisions, detect_flip)\u001b[0m\n\u001b[0;32m    504\u001b[0m \u001b[38;5;28mself\u001b[39m\u001b[38;5;241m.\u001b[39m_adhesion_bodies_with_contact_sensors \u001b[38;5;241m=\u001b[39m np\u001b[38;5;241m.\u001b[39marray(adhesion_sensor_indices)\n\u001b[0;32m    506\u001b[0m \u001b[38;5;66;03m# Set up physics and apply ad hoc changes to gravity, stiffness, and friction\u001b[39;00m\n\u001b[1;32m--> 507\u001b[0m \u001b[38;5;28mself\u001b[39m\u001b[38;5;241m.\u001b[39mphysics \u001b[38;5;241m=\u001b[39m \u001b[43mmjcf\u001b[49m\u001b[38;5;241;43m.\u001b[39;49m\u001b[43mPhysics\u001b[49m\u001b[38;5;241;43m.\u001b[39;49m\u001b[43mfrom_mjcf_model\u001b[49m\u001b[43m(\u001b[49m\u001b[38;5;28;43mself\u001b[39;49m\u001b[38;5;241;43m.\u001b[39;49m\u001b[43marena_root\u001b[49m\u001b[43m)\u001b[49m\n\u001b[0;32m    508\u001b[0m \u001b[38;5;28mself\u001b[39m\u001b[38;5;241m.\u001b[39m_adhesion_actuator_geomid \u001b[38;5;241m=\u001b[39m np\u001b[38;5;241m.\u001b[39marray(\n\u001b[0;32m    509\u001b[0m     [\n\u001b[0;32m    510\u001b[0m         \u001b[38;5;28mself\u001b[39m\u001b[38;5;241m.\u001b[39mphysics\u001b[38;5;241m.\u001b[39mmodel\u001b[38;5;241m.\u001b[39mgeom(\u001b[38;5;124m\"\u001b[39m\u001b[38;5;124mAnimat/\u001b[39m\u001b[38;5;124m\"\u001b[39m \u001b[38;5;241m+\u001b[39m adhesion_actuator\u001b[38;5;241m.\u001b[39mbody)\u001b[38;5;241m.\u001b[39mid\n\u001b[0;32m    511\u001b[0m         \u001b[38;5;28;01mfor\u001b[39;00m adhesion_actuator \u001b[38;5;129;01min\u001b[39;00m \u001b[38;5;28mself\u001b[39m\u001b[38;5;241m.\u001b[39m_adhesion_actuators\n\u001b[0;32m    512\u001b[0m     ]\n\u001b[0;32m    513\u001b[0m )\n\u001b[0;32m    515\u001b[0m \u001b[38;5;66;03m# Set gravity\u001b[39;00m\n",
      "File \u001b[1;32mc:\\Users\\megou\\miniconda3\\envs\\flygym\\Lib\\site-packages\\dm_control\\mjcf\\physics.py:463\u001b[0m, in \u001b[0;36mPhysics.from_mjcf_model\u001b[1;34m(cls, mjcf_model)\u001b[0m\n\u001b[0;32m    461\u001b[0m   \u001b[38;5;28;01mreturn\u001b[39;00m \u001b[38;5;28mcls\u001b[39m\u001b[38;5;241m.\u001b[39mfrom_xml_string(xml_string\u001b[38;5;241m=\u001b[39mxml_string, assets\u001b[38;5;241m=\u001b[39massets)\n\u001b[0;32m    462\u001b[0m \u001b[38;5;28;01mexcept\u001b[39;00m \u001b[38;5;167;01mValueError\u001b[39;00m:\n\u001b[1;32m--> 463\u001b[0m   \u001b[43mdebug_context\u001b[49m\u001b[38;5;241;43m.\u001b[39;49m\u001b[43mprocess_and_raise_last_exception\u001b[49m\u001b[43m(\u001b[49m\u001b[43m)\u001b[49m\n",
      "File \u001b[1;32mc:\\Users\\megou\\miniconda3\\envs\\flygym\\Lib\\site-packages\\dm_control\\mjcf\\debugging.py:263\u001b[0m, in \u001b[0;36mDebugContext.process_and_raise_last_exception\u001b[1;34m(self)\u001b[0m\n\u001b[0;32m    260\u001b[0m   \u001b[38;5;28;01mif\u001b[39;00m xml_line:\n\u001b[0;32m    261\u001b[0m     message_lines\u001b[38;5;241m.\u001b[39mappend(stripped_xml_line)\n\u001b[1;32m--> 263\u001b[0m \u001b[38;5;28;01mraise\u001b[39;00m err_type(\u001b[38;5;124m'\u001b[39m\u001b[38;5;130;01m\\n\u001b[39;00m\u001b[38;5;124m'\u001b[39m\u001b[38;5;241m.\u001b[39mjoin(message_lines))\u001b[38;5;241m.\u001b[39mwith_traceback(tb)\n",
      "File \u001b[1;32mc:\\Users\\megou\\miniconda3\\envs\\flygym\\Lib\\site-packages\\dm_control\\mjcf\\physics.py:461\u001b[0m, in \u001b[0;36mPhysics.from_mjcf_model\u001b[1;34m(cls, mjcf_model)\u001b[0m\n\u001b[0;32m    459\u001b[0m assets \u001b[38;5;241m=\u001b[39m mjcf_model\u001b[38;5;241m.\u001b[39mget_assets()\n\u001b[0;32m    460\u001b[0m \u001b[38;5;28;01mtry\u001b[39;00m:\n\u001b[1;32m--> 461\u001b[0m   \u001b[38;5;28;01mreturn\u001b[39;00m \u001b[38;5;28;43mcls\u001b[39;49m\u001b[38;5;241;43m.\u001b[39;49m\u001b[43mfrom_xml_string\u001b[49m\u001b[43m(\u001b[49m\u001b[43mxml_string\u001b[49m\u001b[38;5;241;43m=\u001b[39;49m\u001b[43mxml_string\u001b[49m\u001b[43m,\u001b[49m\u001b[43m \u001b[49m\u001b[43massets\u001b[49m\u001b[38;5;241;43m=\u001b[39;49m\u001b[43massets\u001b[49m\u001b[43m)\u001b[49m\n\u001b[0;32m    462\u001b[0m \u001b[38;5;28;01mexcept\u001b[39;00m \u001b[38;5;167;01mValueError\u001b[39;00m:\n\u001b[0;32m    463\u001b[0m   debug_context\u001b[38;5;241m.\u001b[39mprocess_and_raise_last_exception()\n",
      "File \u001b[1;32mc:\\Users\\megou\\miniconda3\\envs\\flygym\\Lib\\site-packages\\dm_control\\mujoco\\engine.py:442\u001b[0m, in \u001b[0;36mPhysics.from_xml_string\u001b[1;34m(cls, xml_string, assets)\u001b[0m\n\u001b[0;32m    428\u001b[0m \u001b[38;5;129m@classmethod\u001b[39m\n\u001b[0;32m    429\u001b[0m \u001b[38;5;28;01mdef\u001b[39;00m \u001b[38;5;21mfrom_xml_string\u001b[39m(\u001b[38;5;28mcls\u001b[39m, xml_string, assets\u001b[38;5;241m=\u001b[39m\u001b[38;5;28;01mNone\u001b[39;00m):\n\u001b[0;32m    430\u001b[0m \u001b[38;5;250m  \u001b[39m\u001b[38;5;124;03m\"\"\"A named constructor from a string containing an MJCF XML file.\u001b[39;00m\n\u001b[0;32m    431\u001b[0m \n\u001b[0;32m    432\u001b[0m \u001b[38;5;124;03m  Args:\u001b[39;00m\n\u001b[1;32m   (...)\u001b[0m\n\u001b[0;32m    440\u001b[0m \u001b[38;5;124;03m    A new `Physics` instance.\u001b[39;00m\n\u001b[0;32m    441\u001b[0m \u001b[38;5;124;03m  \"\"\"\u001b[39;00m\n\u001b[1;32m--> 442\u001b[0m   model \u001b[38;5;241m=\u001b[39m \u001b[43mwrapper\u001b[49m\u001b[38;5;241;43m.\u001b[39;49m\u001b[43mMjModel\u001b[49m\u001b[38;5;241;43m.\u001b[39;49m\u001b[43mfrom_xml_string\u001b[49m\u001b[43m(\u001b[49m\u001b[43mxml_string\u001b[49m\u001b[43m,\u001b[49m\u001b[43m \u001b[49m\u001b[43massets\u001b[49m\u001b[38;5;241;43m=\u001b[39;49m\u001b[43massets\u001b[49m\u001b[43m)\u001b[49m\n\u001b[0;32m    443\u001b[0m   \u001b[38;5;28;01mreturn\u001b[39;00m \u001b[38;5;28mcls\u001b[39m\u001b[38;5;241m.\u001b[39mfrom_model(model)\n",
      "File \u001b[1;32mc:\\Users\\megou\\miniconda3\\envs\\flygym\\Lib\\site-packages\\dm_control\\mujoco\\wrapper\\core.py:294\u001b[0m, in \u001b[0;36mMjModel.from_xml_string\u001b[1;34m(cls, xml_string, assets)\u001b[0m\n\u001b[0;32m    280\u001b[0m \u001b[38;5;129m@classmethod\u001b[39m\n\u001b[0;32m    281\u001b[0m \u001b[38;5;28;01mdef\u001b[39;00m \u001b[38;5;21mfrom_xml_string\u001b[39m(\u001b[38;5;28mcls\u001b[39m, xml_string, assets\u001b[38;5;241m=\u001b[39m\u001b[38;5;28;01mNone\u001b[39;00m):\n\u001b[0;32m    282\u001b[0m \u001b[38;5;250m  \u001b[39m\u001b[38;5;124;03m\"\"\"Creates an `MjModel` instance from a model description XML string.\u001b[39;00m\n\u001b[0;32m    283\u001b[0m \n\u001b[0;32m    284\u001b[0m \u001b[38;5;124;03m  Args:\u001b[39;00m\n\u001b[1;32m   (...)\u001b[0m\n\u001b[0;32m    292\u001b[0m \u001b[38;5;124;03m    An `MjModel` instance.\u001b[39;00m\n\u001b[0;32m    293\u001b[0m \u001b[38;5;124;03m  \"\"\"\u001b[39;00m\n\u001b[1;32m--> 294\u001b[0m   model_ptr \u001b[38;5;241m=\u001b[39m \u001b[43m_get_model_ptr_from_xml\u001b[49m\u001b[43m(\u001b[49m\u001b[43mxml_string\u001b[49m\u001b[38;5;241;43m=\u001b[39;49m\u001b[43mxml_string\u001b[49m\u001b[43m,\u001b[49m\u001b[43m \u001b[49m\u001b[43massets\u001b[49m\u001b[38;5;241;43m=\u001b[39;49m\u001b[43massets\u001b[49m\u001b[43m)\u001b[49m\n\u001b[0;32m    295\u001b[0m   \u001b[38;5;28;01mreturn\u001b[39;00m \u001b[38;5;28mcls\u001b[39m(model_ptr)\n",
      "File \u001b[1;32mc:\\Users\\megou\\miniconda3\\envs\\flygym\\Lib\\site-packages\\dm_control\\mujoco\\wrapper\\core.py:179\u001b[0m, in \u001b[0;36m_get_model_ptr_from_xml\u001b[1;34m(xml_path, xml_string, assets)\u001b[0m\n\u001b[0;32m    175\u001b[0m   \u001b[38;5;28;01mraise\u001b[39;00m \u001b[38;5;167;01mTypeError\u001b[39;00m(\n\u001b[0;32m    176\u001b[0m       \u001b[38;5;124m\"\u001b[39m\u001b[38;5;124mOnly one of `xml_path` or `xml_string` may be specified.\u001b[39m\u001b[38;5;124m\"\u001b[39m)\n\u001b[0;32m    178\u001b[0m \u001b[38;5;28;01mif\u001b[39;00m xml_string \u001b[38;5;129;01mis\u001b[39;00m \u001b[38;5;129;01mnot\u001b[39;00m \u001b[38;5;28;01mNone\u001b[39;00m:\n\u001b[1;32m--> 179\u001b[0m   ptr \u001b[38;5;241m=\u001b[39m \u001b[43mmujoco\u001b[49m\u001b[38;5;241;43m.\u001b[39;49m\u001b[43mMjModel\u001b[49m\u001b[38;5;241;43m.\u001b[39;49m\u001b[43mfrom_xml_string\u001b[49m\u001b[43m(\u001b[49m\u001b[43mxml_string\u001b[49m\u001b[43m,\u001b[49m\u001b[43m \u001b[49m\u001b[43massets\u001b[49m\u001b[43m \u001b[49m\u001b[38;5;129;43;01mor\u001b[39;49;00m\u001b[43m \u001b[49m\u001b[43m{\u001b[49m\u001b[43m}\u001b[49m\u001b[43m)\u001b[49m\n\u001b[0;32m    180\u001b[0m \u001b[38;5;28;01melse\u001b[39;00m:\n\u001b[0;32m    181\u001b[0m   ptr \u001b[38;5;241m=\u001b[39m mujoco\u001b[38;5;241m.\u001b[39mMjModel\u001b[38;5;241m.\u001b[39mfrom_xml_path(xml_path, assets \u001b[38;5;129;01mor\u001b[39;00m {})\n",
      "\u001b[1;31mValueError\u001b[0m: Compile error raised by Mujoco; run again with --pymjcf_debug for additional debug information.\nError: unknown transmission target 'Animat/joint_A1A2' for actuator id = 46\nObject name = Animat/actuator_position_joint_A1A2, id = 46, line = 2735\n<position name=\"Animat/actuator_position_joint_A1A2\" class=\"Animat/\" forcelimited=\"true\" ctrlrange=\"-1000000 1000000\" forcerange=\"-inf inf\" joint=\"Animat/joint_A1A2\" kp=\"40\"/>"
     ]
    }
   ],
   "source": [
    "# Move Abdomen\n",
    "sim_params = Parameters(\n",
    "    timestep=1e-4,\n",
    "    render_mode=\"saved\",\n",
    "    render_playspeed=0.2,\n",
    "    enable_adhesion=True,\n",
    "    draw_adhesion=True,\n",
    "    render_camera=\"Animat/camera_left\",\n",
    ")\n",
    "\n",
    "nmf = NeuromechflyProject(\n",
    "    sim_params=sim_params,\n",
    "    )\n",
    "\n",
    "nbre_steps = 5000\n",
    "all_joint_pos = np.ones((nbre_steps, len(all_actuated_dof)))\n",
    "\n",
    "for i in range(len(all_actuated_dof)):\n",
    "#     if i == 42: # LPedicel\n",
    "#         all_joint_pos[:,i] = np.linspace(0,0, nbre_steps)\n",
    "#     elif i == 43: # LPedicel_yaw\n",
    "#         all_joint_pos[:,i] = np.linspace(0, 0, nbre_steps)\n",
    "#     elif i == 44: # RPedicel\n",
    "#         all_joint_pos[:,i] = np.linspace(0, 0, nbre_steps)\n",
    "#     elif i == 45: # RPedicel_yaw\n",
    "#         all_joint_pos[:,i] = np.linspace(0, 0, nbre_steps)\n",
    "#     elif i == 46: # A1A2\n",
    "#         all_joint_pos[:,i] = np.linspace(0, np.pi/6, nbre_steps)\n",
    "#     elif i == 47: # A3\n",
    "#         all_joint_pos[:,i] = np.linspace(0, np.pi/6, nbre_steps)\n",
    "#     elif i == 48 : # A4\n",
    "#         all_joint_pos[:,i] = np.linspace(0, np.pi/6, nbre_steps)\n",
    "#     elif i == 49 : # A5\n",
    "#         all_joint_pos[:,i] = np.linspace(0, np.pi/6, nbre_steps)\n",
    "#     elif i == 50 : # A6\n",
    "#         all_joint_pos[:,i] = np.linspace(0, np.pi/6, nbre_steps)\n",
    "#     else:\n",
    "    all_joint_pos[:,i] = np.linspace(last_joint_angles[i], last_joint_angles[i], nbre_steps)\n",
    "\n",
    "\n",
    "pedicel_arr = np.zeros((nbre_steps, 4))\n",
    "abd_arr = 0.25*np.ones((nbre_steps, 5))\n",
    "all_joint_pos = np.concatenate([all_joint_pos,pedicel_arr, abd_arr], axis=1)\n",
    "print(all_joint_pos.shape)\n",
    "adhesion_action = np.array([0.0 if leg.endswith(\"H\") else 1.0 for leg in legs])\n",
    "\n",
    "for i in trange(nbre_steps):\n",
    "    joint_angles = all_joint_pos[i,:]\n",
    "    action = {'joints': joint_angles, \"adhesion\": adhesion_action}\n",
    "    nmf.step(action)\n",
    "    nmf.render()\n",
    "nmf.save_video(\"./outputs/up_abd.mp4\")"
   ]
  },
  {
   "cell_type": "code",
   "execution_count": null,
   "metadata": {},
   "outputs": [],
   "source": [
    "# Move Hindleg\n",
    "nmf.reset()\n",
    "nbre_steps = 5000\n",
    "all_joint_angles = np.ones((nbre_steps, len(all_joint_angles[0])))\n",
    "\n",
    "for i in range(len(all_joint_angles[0])):\n",
    "    if i == 41: # RH Tarsus\n",
    "        all_joint_angles[:,i] = np.linspace(last_joint_angles[41], -np.pi/2, nbre_steps)\n",
    "    elif i == 20 : # LH Tarsus\n",
    "        all_joint_angles[:,i] = np.linspace(last_joint_angles[20], -np.pi/3, nbre_steps)\n",
    "    else:\n",
    "        all_joint_angles[:,i] = np.linspace(last_joint_angles[i], last_joint_angles[i], nbre_steps)\n",
    "\n",
    "\n",
    "\n",
    "adhesion_action = np.array([0.0 if leg.endswith(\"H\") else 1.0 for leg in legs])\n",
    "\n",
    "for i in range(nbre_steps):\n",
    "    joint_angles = all_joint_angles[i,:]\n",
    "    action = {'joints': joint_angles, \"adhesion\": adhesion_action}\n",
    "    nmf.step(action)\n",
    "    nmf.render()\n",
    "nmf.save_video(\"./outputs/up_hind.mp4\")"
   ]
  },
  {
   "cell_type": "code",
   "execution_count": null,
   "metadata": {},
   "outputs": [],
   "source": [
    "Video(\"./outputs/up_hind.mp4\")"
   ]
  },
  {
   "cell_type": "code",
   "execution_count": null,
   "metadata": {},
   "outputs": [],
   "source": [
    "all_joint_angles = np.ones((target_num_steps, len(all_joint_angles[0])))\n",
    "\n",
    "for i in range(len(all_joint_angles[0])):\n",
    "    if i == 5: # LF tibia\n",
    "        all_joint_angles[:,i] = np.linspace(last_joint_angles[5], 1/3*np.pi, target_num_steps)\n",
    "    elif i == 6 : # LF tarsus\n",
    "        all_joint_angles[:,i] = np.linspace(last_joint_angles[6], 0, target_num_steps)\n",
    "    elif i == 12: # LM tibia\n",
    "        all_joint_angles[:,i] = np.linspace(last_joint_angles[12], 1/3*np.pi, target_num_steps)\n",
    "    elif i == 13: # LM tarsus\n",
    "        all_joint_angles[:,i] = np.linspace(last_joint_angles[13], 0, target_num_steps)\n",
    "    elif i == 26: # RF tibia\n",
    "        all_joint_angles[:,i] = np.linspace(last_joint_angles[26], 1/3*np.pi, target_num_steps)\n",
    "    elif i == 27: # RF tarsus\n",
    "        all_joint_angles[:,i] = np.linspace(last_joint_angles[27], 0, target_num_steps)\n",
    "    elif i == 33: # RM tibia\n",
    "        all_joint_angles[:,i] = np.linspace(last_joint_angles[33], 1/3*np.pi, target_num_steps)\n",
    "    elif i == 34: # RM tarsus\n",
    "        all_joint_angles[:,i] = np.linspace(last_joint_angles[34], 0, target_num_steps)\n",
    "    else:\n",
    "        all_joint_angles[:,i] = np.linspace(last_joint_angles[i], last_joint_angles[i], target_num_steps)\n",
    "\n",
    "\n",
    "\n",
    "adhesion_action = np.array([0.0 if leg.endswith(\"H\") else 1.0 for leg in legs])\n",
    "\n",
    "for i in range(target_num_steps):\n",
    "    joint_angles = all_joint_angles[i,:]\n",
    "    action = {'joints': joint_angles, \"adhesion\": adhesion_action}\n",
    "    nmf.step(action)\n",
    "    nmf.render()\n",
    "nmf.save_video(\"./outputs/b.mp4\")"
   ]
  },
  {
   "cell_type": "code",
   "execution_count": null,
   "metadata": {},
   "outputs": [],
   "source": [
    "nmf.reset()\n",
    "all_joint_angles = np.ones((target_num_steps, len(all_joint_angles[0])))\n",
    "\n",
    "if i == 9: # LH Tarsus\n",
    "    all_joint_angles[:,i] = np.linspace(last_joint_angles[9], 0, target_num_steps)\n",
    "elif i == 41: # RH Tarsus\n",
    "    all_joint_angles[:,i] = np.linspace(last_joint_angles[41], 0, target_num_steps)\n",
    "\n",
    "for i in trange(target_num_steps):\n",
    "    joint_angles = all_joint_angles[i,:]\n",
    "    action = {\"joints\": joint_angles, \"adhesion\" : np.array([1,1,0,1,1,0])}\n",
    "    #print(\"prog_action\", action,'\\n')\n",
    "    nmf.step(action)\n",
    "    nmf.render()\n",
    "nmf.save_video(\"./outputs/c.mp4\")"
   ]
  },
  {
   "cell_type": "code",
   "execution_count": null,
   "metadata": {},
   "outputs": [],
   "source": [
    "Video(\"./outputs/c.mp4\")"
   ]
  },
  {
   "cell_type": "code",
   "execution_count": null,
   "metadata": {},
   "outputs": [],
   "source": [
    "# plot hindleg joint positions\n",
    "plt.figure(figsize=(15, 5))\n",
    "plt.plot(all_joint_angles[:,8:9], label=[\"LH Tibia\",\"LH Tarsus\"])\n",
    "plt.plot(all_joint_angles[:,14:15], label=[\"RH Tibia\",\"RH Tarsus\"])\n",
    "plt.title(\"Hindleg joint positions\")\n",
    "plt.xlabel(\"Time step\")\n",
    "plt.ylabel(\"Joint angle\")\n",
    "plt.legend()\n",
    "plt.show()"
   ]
  },
  {
   "cell_type": "code",
   "execution_count": null,
   "metadata": {},
   "outputs": [],
   "source": [
    "observ = nmf.get_observation()\n",
    "print(observ[\"end_effectors\"])"
   ]
  },
  {
   "cell_type": "markdown",
   "metadata": {},
   "source": [
    "#### Load grooming position of frontleg"
   ]
  },
  {
   "cell_type": "code",
   "execution_count": null,
   "metadata": {},
   "outputs": [],
   "source": [
    "grooming_module_path = Path(\"./data/grooming_modules_provided_slow.pkl\")\n",
    "with open(grooming_module_path, \"rb\") as f:\n",
    "    grooming_modules = pickle.load(f)\n",
    "\n",
    "timestep_groom = grooming_modules[\"timestep\"]\n",
    "target_num_steps_groom = int(1.0 / timestep_groom) # 10'000\n",
    "target_joint_angles_front = grooming_modules[\"foreleg\"][:, :target_num_steps]\n"
   ]
  },
  {
   "cell_type": "code",
   "execution_count": null,
   "metadata": {},
   "outputs": [],
   "source": [
    "# all_joint_angles.shape() = (10000, 42)\n",
    "# my all_joint_angles_groom_shape() = (558, 21)\n",
    "\n",
    "# need to map the 21 joints to the 42 joints\n",
    "target_joint_angles_front = target_joint_angles_front.T # (558, 21)\n",
    "target_joint_angles_front = np.tile(target_joint_angles_front, (18, 1)) # (10044, 21)\n",
    "\n",
    "joint_LHCoxa = target_joint_angles_front[:,3]"
   ]
  },
  {
   "cell_type": "code",
   "execution_count": null,
   "metadata": {},
   "outputs": [],
   "source": [
    "print(joint_LHCoxa.shape)\n",
    "print(joint_LHCoxa[:target_num_steps].shape)\n",
    "test = np.ones((target_num_steps, len(all_joint_angles[0])))\n",
    "print(test.shape)\n",
    "print(target_num_steps)"
   ]
  },
  {
   "cell_type": "markdown",
   "metadata": {},
   "source": [
    "#### Map the grooming position of the leg to the corresponding body part."
   ]
  },
  {
   "cell_type": "code",
   "execution_count": null,
   "metadata": {},
   "outputs": [],
   "source": [
    "joint_LHCoxa = target_joint_angles_front[:,3]\n",
    "joint_LHCoxa_roll = target_joint_angles_front[:,4]\n",
    "joint_LHCoxa_yaw = target_joint_angles_front[:,5]\n",
    "joint_LHFemur = target_joint_angles_front[:,6]\n",
    "joint_LHFemur_roll = target_joint_angles_front[:,7]\n",
    "joint_LHTibia = target_joint_angles_front[:,8]\n",
    "joint_LHTarsus = target_joint_angles_front[:,9]\n",
    "joint_RHCoxa = target_joint_angles_front[:,10]\n",
    "joint_RHCoxa_roll = target_joint_angles_front[:,11]\n",
    "joint_RHCoxa_yaw = target_joint_angles_front[:,12]\n",
    "joint_RHFemur = target_joint_angles_front[:,13]\n",
    "joint_RHFemur_roll = target_joint_angles_front[:,14]\n",
    "joint_RHTibia = target_joint_angles_front[:,15]\n",
    "joint_RHTarsus = target_joint_angles_front[:,16]\n",
    "\n",
    "\n",
    "all_joint_angles = np.ones((target_num_steps, len(all_joint_angles[0]))) # 10000, 42\n",
    "print(all_joint_angles.shape)\n",
    "\n",
    "all_joint_angles[:,14] = joint_LHCoxa[:target_num_steps] # jusqu'à 10'000\n",
    "all_joint_angles[:,15] = joint_LHCoxa_roll[:target_num_steps]\n",
    "all_joint_angles[:,16] = joint_LHCoxa_yaw[:target_num_steps]\n",
    "all_joint_angles[:,17] = joint_LHFemur[:target_num_steps]\n",
    "all_joint_angles[:,18] = joint_LHFemur_roll[:target_num_steps]\n",
    "all_joint_angles[:,19] = joint_LHTibia[:target_num_steps]\n",
    "all_joint_angles[:,20] = joint_LHTarsus[:target_num_steps]\n",
    "all_joint_angles[:,35] = joint_RHCoxa[:target_num_steps]\n",
    "all_joint_angles[:,36] = joint_RHCoxa_roll[:target_num_steps]\n",
    "all_joint_angles[:,37] = joint_RHCoxa_yaw[:target_num_steps]\n",
    "all_joint_angles[:,38] = joint_RHFemur[:target_num_steps]\n",
    "all_joint_angles[:,39] = joint_RHFemur_roll[:target_num_steps]\n",
    "all_joint_angles[:,40] = joint_RHTibia[:target_num_steps]\n",
    "all_joint_angles[:,41] = joint_RHTarsus[:target_num_steps]\n"
   ]
  },
  {
   "cell_type": "markdown",
   "metadata": {},
   "source": [
    "#### Simulation"
   ]
  },
  {
   "cell_type": "code",
   "execution_count": null,
   "metadata": {},
   "outputs": [],
   "source": [
    "# test_front = grooming_modules[\"foreleg\"][:, :target_num_steps]\n",
    "# abd_arr = 0.25*np.ones((5, 558))\n",
    "# test_front = np.concatenate((test_front, abd_arr), axis=0)\n",
    "# print(test_front.shape)\n",
    "# print(nmf.arena)\n",
    "# print(nmf.init_pose)\n",
    "\n",
    "\n",
    "for i in trange(target_num_steps/2):\n",
    "    for k in range (len(all_joint_angles[0])):\n",
    "        if k == 9: # LH Tarsus\n",
    "            joint_angles = all_joint_angles[k,i + np.pi/2]\n",
    "        elif k == 41: # RH Tarsus\n",
    "            joint_angles = all_joint_angles[k,i + np.pi/2]\n",
    "        else:\n",
    "            joint_angles = all_joint_angles[k,i]\n",
    "    action = {\"joints\": joint_angles, \"adhesion\" : np.array([1,1,0,1,1,0])}\n",
    "    #print(\"prog_action\", action,'\\n')\n",
    "    nmf.step(action)\n",
    "    nmf.render()\n",
    "\n",
    "nmf.save_video(\"./outputs/main_groom.mp4\")"
   ]
  },
  {
   "cell_type": "code",
   "execution_count": null,
   "metadata": {},
   "outputs": [],
   "source": [
    "Video(\"./outputs/main_groom.mp4\")"
   ]
  }
 ],
 "metadata": {
  "kernelspec": {
   "display_name": "flygym",
   "language": "python",
   "name": "python3"
  },
  "language_info": {
   "codemirror_mode": {
    "name": "ipython",
    "version": 3
   },
   "file_extension": ".py",
   "mimetype": "text/x-python",
   "name": "python",
   "nbconvert_exporter": "python",
   "pygments_lexer": "ipython3",
   "version": "3.11.7"
  }
 },
 "nbformat": 4,
 "nbformat_minor": 2
}
