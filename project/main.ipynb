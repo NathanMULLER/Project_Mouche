{
 "cells": [
  {
   "cell_type": "code",
   "execution_count": 1,
   "metadata": {},
   "outputs": [
    {
     "name": "stdout",
     "output_type": "stream",
     "text": [
      "0 joint_LFCoxa\n",
      "1 joint_LFCoxa_roll\n",
      "2 joint_LFCoxa_yaw\n",
      "3 joint_LFFemur\n",
      "4 joint_LFFemur_roll\n",
      "5 joint_LFTibia\n",
      "6 joint_LFTarsus1\n",
      "7 joint_LMCoxa\n",
      "8 joint_LMCoxa_roll\n",
      "9 joint_LMCoxa_yaw\n",
      "10 joint_LMFemur\n",
      "11 joint_LMFemur_roll\n",
      "12 joint_LMTibia\n",
      "13 joint_LMTarsus1\n",
      "14 joint_LHCoxa\n",
      "15 joint_LHCoxa_roll\n",
      "16 joint_LHCoxa_yaw\n",
      "17 joint_LHFemur\n",
      "18 joint_LHFemur_roll\n",
      "19 joint_LHTibia\n",
      "20 joint_LHTarsus1\n",
      "21 joint_RFCoxa\n",
      "22 joint_RFCoxa_roll\n",
      "23 joint_RFCoxa_yaw\n",
      "24 joint_RFFemur\n",
      "25 joint_RFFemur_roll\n",
      "26 joint_RFTibia\n",
      "27 joint_RFTarsus1\n",
      "28 joint_RMCoxa\n",
      "29 joint_RMCoxa_roll\n",
      "30 joint_RMCoxa_yaw\n",
      "31 joint_RMFemur\n",
      "32 joint_RMFemur_roll\n",
      "33 joint_RMTibia\n",
      "34 joint_RMTarsus1\n",
      "35 joint_RHCoxa\n",
      "36 joint_RHCoxa_roll\n",
      "37 joint_RHCoxa_yaw\n",
      "38 joint_RHFemur\n",
      "39 joint_RHFemur_roll\n",
      "40 joint_RHTibia\n",
      "41 joint_RHTarsus1\n"
     ]
    }
   ],
   "source": [
    "import numpy as np\n",
    "import pickle\n",
    "import matplotlib.pyplot as plt\n",
    "from pathlib import Path\n",
    "from tqdm import trange\n",
    "\n",
    "\n",
    "import flygym.common\n",
    "import flygym.mujoco\n",
    "import flygym.mujoco.preprogrammed\n",
    "\n",
    "from flygym.mujoco import Parameters\n",
    "\n",
    "\n",
    "from nmf_grooming import (\n",
    "    NeuromechflyGrooming,\n",
    "    all_groom_dofs,\n",
    "    load_grooming_data,\n",
    "    plot_state_and_contacts,\n",
    ")\n",
    "from scipy.signal import find_peaks, medfilt\n",
    "from IPython.display import Video\n",
    "\n",
    "from flygym.mujoco.examples.rule_based_controller import PreprogrammedSteps"
   ]
  },
  {
   "cell_type": "code",
   "execution_count": 2,
   "metadata": {},
   "outputs": [],
   "source": [
    "run_time = 1\n",
    "\n",
    "sim_params = flygym.mujoco.Parameters(\n",
    "    timestep=1e-4,\n",
    "    render_mode=\"saved\",\n",
    "    render_playspeed=0.2,\n",
    "    enable_adhesion=True,\n",
    "    draw_adhesion=True,\n",
    ")\n",
    "\n",
    "actuated_joints = flygym.mujoco.preprogrammed.all_leg_dofs"
   ]
  },
  {
   "cell_type": "code",
   "execution_count": 3,
   "metadata": {},
   "outputs": [],
   "source": [
    "target_num_steps = int(run_time / sim_params.timestep) # 10'000\n"
   ]
  },
  {
   "cell_type": "code",
   "execution_count": 4,
   "metadata": {},
   "outputs": [],
   "source": [
    "nmf = flygym.mujoco.NeuroMechFly(Parameters(\n",
    "    enable_adhesion=True, \n",
    "    draw_adhesion=True,\n",
    "    render_camera=\"Animat/camera_left\"))\n",
    "\n",
    "preprogrammed_steps = PreprogrammedSteps()\n",
    "\n",
    "swing_periods = preprogrammed_steps.swing_period\n",
    "\n",
    "legs = preprogrammed_steps.legs\n",
    "\n",
    "actuated_joints = preprogrammed_steps.dofs_per_leg\n",
    "\n",
    "standing_action = []\n",
    "\n",
    "for leg in legs:\n",
    "    if leg.endswith(\"M\"):\n",
    "        standing_action.extend(preprogrammed_steps.get_joint_angles(leg, swing_periods[leg][1]))\n",
    "    else:\n",
    "        standing_action.extend(preprogrammed_steps.get_joint_angles(leg, 0.0))\n",
    "\n",
    "standing_action = {'joints': standing_action, \"adhesion\": np.zeros(len(legs))}\n",
    "\n",
    "for i in range(int(0.2//nmf.timestep)):\n",
    "    nmf.step(standing_action)\n",
    "\n"
   ]
  },
  {
   "cell_type": "code",
   "execution_count": 5,
   "metadata": {},
   "outputs": [],
   "source": [
    "foreleg_ids = np.zeros(target_num_steps)\n",
    "middle_stance_ids = np.linspace(swing_periods[\"RM\"][1], -1/4*np.pi, target_num_steps)\n",
    "hind_swings_ids = np.zeros(target_num_steps)\n",
    "\n",
    "adhesion_action = np.array([1.0 if leg.endswith(\"F\") else 0.0 for leg in legs])\n",
    "\n",
    "all_joint_angles = []\n",
    "\n",
    "for i in range(target_num_steps):\n",
    "    joint_angles = []\n",
    "    for leg in legs:\n",
    "        if leg.endswith(\"H\"):\n",
    "            joint_angles.extend(preprogrammed_steps.get_joint_angles(leg, hind_swings_ids[i]))\n",
    "        elif leg.endswith(\"M\"):\n",
    "            joint_angles.extend(preprogrammed_steps.get_joint_angles(leg, middle_stance_ids[i]))\n",
    "        else:\n",
    "            joint_angles.extend(preprogrammed_steps.get_joint_angles(leg, foreleg_ids[i]))\n",
    "    all_joint_angles.append(joint_angles.copy())\n",
    "\n",
    "    action = {'joints': np.array(joint_angles), \"adhesion\": adhesion_action}\n",
    "    nmf.step(action)\n",
    "    nmf.render()\n",
    "\n",
    "last_joint_angles = all_joint_angles[-1]"
   ]
  },
  {
   "cell_type": "code",
   "execution_count": 6,
   "metadata": {},
   "outputs": [],
   "source": [
    "all_joint_angles = np.ones((target_num_steps, len(all_joint_angles[0])))\n",
    "\n",
    "for i in range(len(all_joint_angles[0])):\n",
    "    if i == 5: # LF tibia\n",
    "        all_joint_angles[:,i] = np.linspace(last_joint_angles[5], 1/3*np.pi, target_num_steps)\n",
    "    elif i == 6 : # LF tarsus\n",
    "        all_joint_angles[:,i] = np.linspace(last_joint_angles[6], 0, target_num_steps)\n",
    "    elif i == 12: # LM tibia\n",
    "        all_joint_angles[:,i] = np.linspace(last_joint_angles[12], 1/3*np.pi, target_num_steps)\n",
    "    elif i == 13: # LM tarsus\n",
    "        all_joint_angles[:,i] = np.linspace(last_joint_angles[13], 0, target_num_steps)\n",
    "    elif i == 26: # RF tibia\n",
    "        all_joint_angles[:,i] = np.linspace(last_joint_angles[26], 1/3*np.pi, target_num_steps)\n",
    "    elif i == 27: # RF tarsus\n",
    "        all_joint_angles[:,i] = np.linspace(last_joint_angles[27], 0, target_num_steps)\n",
    "    elif i == 33: # RM tibia\n",
    "        all_joint_angles[:,i] = np.linspace(last_joint_angles[33], 1/3*np.pi, target_num_steps)\n",
    "    elif i == 34: # RM tarsus\n",
    "        all_joint_angles[:,i] = np.linspace(last_joint_angles[34], 0, target_num_steps)\n",
    "    else:\n",
    "        all_joint_angles[:,i] = np.linspace(last_joint_angles[i], last_joint_angles[i], target_num_steps)\n",
    "\n",
    "\n",
    "\n",
    "adhesion_action = np.array([0.0 if leg.endswith(\"H\") else 1.0 for leg in legs])\n",
    "\n",
    "for i in range(target_num_steps):\n",
    "    joint_angles = all_joint_angles[i,:]\n",
    "    action = {'joints': joint_angles, \"adhesion\": adhesion_action}\n",
    "    nmf.step(action)\n",
    "    nmf.render()\n",
    "nmf.save_video(\"./outputs/b.mp4\")"
   ]
  },
  {
   "cell_type": "code",
   "execution_count": 7,
   "metadata": {},
   "outputs": [
    {
     "data": {
      "text/html": [
       "<video src=\"./outputs/b.mp4\" controls  >\n",
       "      Your browser does not support the <code>video</code> element.\n",
       "    </video>"
      ],
      "text/plain": [
       "<IPython.core.display.Video object>"
      ]
     },
     "execution_count": 7,
     "metadata": {},
     "output_type": "execute_result"
    }
   ],
   "source": [
    "Video(\"./outputs/b.mp4\")"
   ]
  },
  {
   "cell_type": "markdown",
   "metadata": {},
   "source": [
    "#### Load grooming position of frontleg"
   ]
  },
  {
   "cell_type": "code",
   "execution_count": 8,
   "metadata": {},
   "outputs": [],
   "source": [
    "grooming_module_path = Path(\"./data/grooming_modules_provided_slow.pkl\")\n",
    "with open(grooming_module_path, \"rb\") as f:\n",
    "    grooming_modules = pickle.load(f)\n",
    "\n",
    "timestep_groom = grooming_modules[\"timestep\"]\n",
    "target_num_steps_groom = int(1.0 / timestep_groom) # 10'000\n",
    "target_joint_angles_front = grooming_modules[\"foreleg\"][:, :target_num_steps]\n"
   ]
  },
  {
   "cell_type": "code",
   "execution_count": 9,
   "metadata": {},
   "outputs": [],
   "source": [
    "# all_joint_angles.shape() = (10000, 42)\n",
    "# my all_joint_angles_groom_shape() = (558, 21)\n",
    "\n",
    "# need to map the 21 joints to the 42 joints\n",
    "target_joint_angles_front = target_joint_angles_front.T # (558, 21)\n",
    "target_joint_angles_front = np.tile(target_joint_angles_front, (18, 1)) # (10044, 21)\n",
    "\n",
    "joint_LHCoxa = target_joint_angles_front[:,3]"
   ]
  },
  {
   "cell_type": "code",
   "execution_count": 10,
   "metadata": {},
   "outputs": [
    {
     "name": "stdout",
     "output_type": "stream",
     "text": [
      "(10044,)\n",
      "(10000,)\n",
      "(10000, 42)\n",
      "10000\n"
     ]
    }
   ],
   "source": [
    "print(joint_LHCoxa.shape)\n",
    "print(joint_LHCoxa[:target_num_steps].shape)\n",
    "test = np.ones((target_num_steps, len(all_joint_angles[0])))\n",
    "print(test.shape)\n",
    "print(target_num_steps)"
   ]
  },
  {
   "cell_type": "markdown",
   "metadata": {},
   "source": [
    "#### Map the grooming position of the leg to the corresponding body part."
   ]
  },
  {
   "cell_type": "code",
   "execution_count": 11,
   "metadata": {},
   "outputs": [
    {
     "name": "stdout",
     "output_type": "stream",
     "text": [
      "(10000, 42)\n"
     ]
    }
   ],
   "source": [
    "joint_LHCoxa = target_joint_angles_front[:,3]\n",
    "joint_LHCoxa_roll = target_joint_angles_front[:,4]\n",
    "joint_LHCoxa_yaw = target_joint_angles_front[:,5]\n",
    "joint_LHFemur = target_joint_angles_front[:,6]\n",
    "joint_LHFemur_roll = target_joint_angles_front[:,7]\n",
    "joint_LHTibia = target_joint_angles_front[:,8]\n",
    "joint_LHTarsus = target_joint_angles_front[:,9]\n",
    "joint_RHCoxa = target_joint_angles_front[:,10]\n",
    "joint_RHCoxa_roll = target_joint_angles_front[:,11]\n",
    "joint_RHCoxa_yaw = target_joint_angles_front[:,12]\n",
    "joint_RHFemur = target_joint_angles_front[:,13]\n",
    "joint_RHFemur_roll = target_joint_angles_front[:,14]\n",
    "joint_RHTibia = target_joint_angles_front[:,15]\n",
    "joint_RHTarsus = target_joint_angles_front[:,16]\n",
    "\n",
    "\n",
    "all_joint_angles = np.ones((target_num_steps, len(all_joint_angles[0]))) # 10000, 42\n",
    "print(all_joint_angles.shape)\n",
    "\n",
    "all_joint_angles[:,14] = joint_LHCoxa[:target_num_steps] # jusqu'à 10'000\n",
    "all_joint_angles[:,15] = joint_LHCoxa_roll[:target_num_steps]\n",
    "all_joint_angles[:,16] = joint_LHCoxa_yaw[:target_num_steps]\n",
    "all_joint_angles[:,17] = joint_LHFemur[:target_num_steps]\n",
    "all_joint_angles[:,18] = joint_LHFemur_roll[:target_num_steps]\n",
    "all_joint_angles[:,19] = joint_LHTibia[:target_num_steps]\n",
    "all_joint_angles[:,20] = joint_LHTarsus[:target_num_steps]\n",
    "all_joint_angles[:,35] = joint_RHCoxa[:target_num_steps]\n",
    "all_joint_angles[:,36] = joint_RHCoxa_roll[:target_num_steps]\n",
    "all_joint_angles[:,37] = joint_RHCoxa_yaw[:target_num_steps]\n",
    "all_joint_angles[:,38] = joint_RHFemur[:target_num_steps]\n",
    "all_joint_angles[:,39] = joint_RHFemur_roll[:target_num_steps]\n",
    "all_joint_angles[:,40] = joint_RHTibia[:target_num_steps]\n",
    "all_joint_angles[:,41] = joint_RHTarsus[:target_num_steps]\n"
   ]
  },
  {
   "cell_type": "code",
   "execution_count": null,
   "metadata": {},
   "outputs": [],
   "source": [
    "import matplotlib.pyplot as plt\n",
    "\n",
    "plt.plot(all_joint_angles[:,14])\n",
    "plt.plot(joint_LHTibia[:target_num_steps])"
   ]
  },
  {
   "cell_type": "markdown",
   "metadata": {},
   "source": [
    "#### Simulation"
   ]
  },
  {
   "cell_type": "code",
   "execution_count": 12,
   "metadata": {},
   "outputs": [
    {
     "name": "stderr",
     "output_type": "stream",
     "text": [
      "100%|██████████| 10000/10000 [05:43<00:00, 29.13it/s]\n"
     ]
    }
   ],
   "source": [
    "for i in trange(target_num_steps):\n",
    "    joint_angles = all_joint_angles[i,:]\n",
    "    \n",
    "    action = {\"joints\": joint_angles, \"adhesion\": np.zeros(len(legs))}\n",
    "    nmf.step(action)\n",
    "    nmf.render()\n",
    "\n",
    "nmf.save_video(\"./outputs/b.mp4\")"
   ]
  },
  {
   "cell_type": "code",
   "execution_count": null,
   "metadata": {},
   "outputs": [],
   "source": []
  }
 ],
 "metadata": {
  "kernelspec": {
   "display_name": "flygym",
   "language": "python",
   "name": "python3"
  },
  "language_info": {
   "codemirror_mode": {
    "name": "ipython",
    "version": 3
   },
   "file_extension": ".py",
   "mimetype": "text/x-python",
   "name": "python",
   "nbconvert_exporter": "python",
   "pygments_lexer": "ipython3",
   "version": "3.11.7"
  }
 },
 "nbformat": 4,
 "nbformat_minor": 2
}
