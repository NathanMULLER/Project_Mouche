{
 "cells": [
  {
   "cell_type": "code",
   "execution_count": 48,
   "metadata": {},
   "outputs": [],
   "source": [
    "import numpy as np\n",
    "import pickle\n",
    "import matplotlib.pyplot as plt\n",
    "from pathlib import Path\n",
    "from tqdm import trange\n",
    "\n",
    "\n",
    "import flygym.common\n",
    "import flygym.mujoco\n",
    "import flygym.mujoco.preprogrammed\n",
    "\n",
    "from flygym.mujoco import Parameters\n",
    "\n",
    "from nmf_project import (\n",
    "    NeuromechflyProject,\n",
    "    all_actuated_dof,)\n",
    "\n",
    "\n",
    "from scipy.signal import find_peaks, medfilt\n",
    "from IPython.display import Video\n",
    "\n",
    "from flygym.mujoco.examples.rule_based_controller import PreprogrammedSteps"
   ]
  },
  {
   "cell_type": "code",
   "execution_count": 49,
   "metadata": {},
   "outputs": [],
   "source": [
    "# Joint angles according to indices\n",
    "LF_COXA = 0\n",
    "LF_COXA_ROLL = 1\n",
    "LF_COXA_YAW = 2\n",
    "LF_FEMUR = 3\n",
    "LF_FEMUR_ROLL = 4\n",
    "LF_TIBIA = 5\n",
    "LF_TARSUS = 6\n",
    "\n",
    "LM_COXA = 7\n",
    "LM_COXA_ROLL = 8\n",
    "LM_COXA_YAW = 9\n",
    "LM_FEMUR = 10\n",
    "LM_FEMUR_ROLL = 11\n",
    "LM_TIBIA = 12\n",
    "LM_TARSUS = 13\n",
    "\n",
    "LH_COXA = 14\n",
    "LH_COXA_ROLL = 15\n",
    "LH_COXA_YAW = 16\n",
    "LH_FEMUR = 17\n",
    "LH_FEMUR_ROLL = 18\n",
    "LH_TIBIA = 19\n",
    "LH_TARSUS = 20\n",
    "\n",
    "RF_COXA = 21\n",
    "RF_COXA_ROLL = 22\n",
    "RF_COXA_YAW = 23\n",
    "RF_FEMUR = 24\n",
    "RF_FEMUR_ROLL = 25\n",
    "RF_TIBIA = 26\n",
    "RF_TARSUS = 27\n",
    "\n",
    "RM_COXA = 28\n",
    "RM_COXA_ROLL = 29\n",
    "RM_COXA_YAW = 30\n",
    "RM_FEMUR = 31\n",
    "RM_FEMUR_ROLL = 32\n",
    "RM_TIBIA = 33\n",
    "RM_TARSUS = 34\n",
    "\n",
    "RH_COXA = 35\n",
    "RH_COXA_ROLL = 36\n",
    "RH_COXA_YAW = 37\n",
    "RH_FEMUR = 38\n",
    "RH_FEMUR_ROLL = 39\n",
    "RH_TIBIA = 40\n",
    "RH_TARSUS = 41"
   ]
  },
  {
   "cell_type": "markdown",
   "metadata": {},
   "source": [
    "#### Set up simulation parameters"
   ]
  },
  {
   "cell_type": "code",
   "execution_count": 50,
   "metadata": {},
   "outputs": [],
   "source": [
    "run_time = 1\n",
    "\n",
    "sim_params = Parameters(timestep=1e-4,\n",
    "    render_mode=\"saved\",\n",
    "    render_playspeed=0.2,\n",
    "    enable_adhesion=True,\n",
    "    draw_adhesion=True,\n",
    "    render_camera=\"Animat/camera_left\",\n",
    ")\n",
    "\n",
    "actuated_joints = flygym.mujoco.preprogrammed.all_leg_dofs\n",
    "\n",
    "target_num_steps = int(run_time / sim_params.timestep) # 10'000\n"
   ]
  },
  {
   "cell_type": "code",
   "execution_count": 51,
   "metadata": {},
   "outputs": [],
   "source": [
    "nmf = NeuromechflyProject(sim_params=sim_params,)\n",
    "\n",
    "preprogrammed_steps = PreprogrammedSteps()\n",
    "\n",
    "swing_periods = preprogrammed_steps.swing_period\n",
    "\n",
    "legs = preprogrammed_steps.legs\n",
    "\n",
    "actuated_joints = preprogrammed_steps.dofs_per_leg\n",
    "\n",
    "standing_action = []\n",
    "\n",
    "for leg in legs:\n",
    "    if leg.endswith(\"M\"):\n",
    "        standing_action.extend(preprogrammed_steps.get_joint_angles(leg, swing_periods[leg][1]))\n",
    "    else:\n",
    "        standing_action.extend(preprogrammed_steps.get_joint_angles(leg, 0.0))\n",
    "\n",
    "standing_action.extend([0]*5) # Add the abdomen actuators at zero\n",
    "\n",
    "standing_action = {'joints': standing_action, \"adhesion\": np.zeros(len(legs))}\n",
    "\n",
    "for i in range(int(0.2//nmf.timestep)):\n",
    "    nmf.step(standing_action)"
   ]
  },
  {
   "cell_type": "markdown",
   "metadata": {},
   "source": [
    "#### 1ST MOVEMENT: Move middle legs to the back (1st movement)"
   ]
  },
  {
   "cell_type": "code",
   "execution_count": 52,
   "metadata": {},
   "outputs": [
    {
     "name": "stderr",
     "output_type": "stream",
     "text": [
      "100%|██████████| 5000/5000 [00:19<00:00, 253.22it/s]\n"
     ]
    }
   ],
   "source": [
    "target_num_steps = 5000\n",
    "nmf.reset()\n",
    "foreleg_ids = np.zeros(target_num_steps)\n",
    "middle_stance_ids = np.linspace(swing_periods[\"RM\"][1], -1/4*np.pi, target_num_steps)\n",
    "hind_swings_ids = np.zeros(target_num_steps)\n",
    "\n",
    "adhesion_action = np.array([1.0 if leg.endswith(\"F\") else 0.0 for leg in legs])\n",
    "all_joint_angles = []\n",
    "\n",
    "for i in trange(target_num_steps):\n",
    "    joint_angles = []\n",
    "    for leg in legs:\n",
    "        if leg.endswith(\"H\"):\n",
    "            joint_angles.extend(preprogrammed_steps.get_joint_angles(leg, hind_swings_ids[i]))\n",
    "        elif leg.endswith(\"M\"):\n",
    "            joint_angles.extend(preprogrammed_steps.get_joint_angles(leg, middle_stance_ids[i]))\n",
    "        else:\n",
    "            joint_angles.extend(preprogrammed_steps.get_joint_angles(leg, foreleg_ids[i]))\n",
    "    joint_angles.extend([0]*5) # Add abdomen actuators at zero\n",
    "\n",
    "    all_joint_angles.append(joint_angles.copy())\n",
    "    \n",
    "    action = {'joints': np.array(joint_angles), \"adhesion\": adhesion_action}\n",
    "    nmf.step(action)\n",
    "    nmf.render()\n",
    "nmf.save_video(\"./outputs/b.mp4\")\n",
    "\n",
    "# Save the last joint angles\n",
    "last_joint_angles = all_joint_angles[-1]\n",
    "all_joint_angles_arr = np.array(all_joint_angles)"
   ]
  },
  {
   "cell_type": "markdown",
   "metadata": {},
   "source": [
    "#### 2ND MOVEMENT: Weight on front and middle legs"
   ]
  },
  {
   "cell_type": "code",
   "execution_count": 53,
   "metadata": {},
   "outputs": [],
   "source": [
    "sim_params = Parameters(timestep=1e-4,\n",
    "    render_mode=\"saved\",\n",
    "    render_playspeed=0.2,\n",
    "    enable_adhesion=True,\n",
    "    draw_adhesion=True,\n",
    "    render_camera=\"Animat/camera_top\",\n",
    ")\n",
    "\n",
    "target_num_steps = 5000\n",
    "half_nbre_steps = target_num_steps//2\n",
    "nmf = NeuromechflyProject(sim_params=sim_params,)"
   ]
  },
  {
   "cell_type": "code",
   "execution_count": 54,
   "metadata": {},
   "outputs": [],
   "source": [
    "abdomen_ctrl_up = np.zeros((target_num_steps)) # shape (nbre_steps, )\n",
    "abdomen_ctrl_up[:half_nbre_steps] = np.linspace(0, np.pi/20, half_nbre_steps)\n",
    "abdomen_ctrl_up[half_nbre_steps:] = np.ones(target_num_steps-half_nbre_steps)*np.pi/20 # abd is up after 1 seconds and stays up\n",
    "abd_joint = np.tile(abdomen_ctrl_up, (5, 1)).T"
   ]
  },
  {
   "cell_type": "code",
   "execution_count": 55,
   "metadata": {},
   "outputs": [
    {
     "name": "stdout",
     "output_type": "stream",
     "text": [
      "(5000, 47)\n",
      "47\n"
     ]
    },
    {
     "name": "stderr",
     "output_type": "stream",
     "text": [
      "100%|██████████| 5000/5000 [00:21<00:00, 228.20it/s]\n"
     ]
    }
   ],
   "source": [
    "nmf.reset()\n",
    "\n",
    "all_joint_angles_2nd = np.zeros([target_num_steps,47]) # shape (nbre_steps, 47)\n",
    "print(all_joint_angles_2nd.shape)\n",
    "\n",
    "print(len(last_joint_angles))\n",
    "\n",
    "for i in range(len(last_joint_angles)):\n",
    "#### LEFT LEGS ####    \n",
    "    if i == LF_TIBIA: # LF tibia\n",
    "        all_joint_angles_2nd[:,i] = np.linspace(last_joint_angles[LF_TIBIA], 1/3*np.pi, target_num_steps)\n",
    "    elif i == LF_TARSUS : # LF tarsus\n",
    "        all_joint_angles_2nd[:,i] = np.linspace(last_joint_angles[LF_TARSUS], 0, target_num_steps)\n",
    "\n",
    "    elif i == LM_TIBIA: # LM tibia\n",
    "        all_joint_angles_2nd[:,i] = np.linspace(last_joint_angles[LM_TIBIA], 1/3*np.pi, target_num_steps)\n",
    "    elif i == LM_TARSUS: # LM tarsus\n",
    "        all_joint_angles_2nd[:,i] = np.linspace(last_joint_angles[LM_TARSUS], 0, target_num_steps)\n",
    "    elif i == LM_FEMUR: # LM FEMUR\n",
    "        all_joint_angles_2nd[:,i] = np.linspace(last_joint_angles[LM_FEMUR], -3/7*np.pi, target_num_steps)\n",
    "    elif i == LM_FEMUR_ROLL: # LM FEMUR ROLL\n",
    "        all_joint_angles_2nd[:,i] = np.linspace(last_joint_angles[LM_FEMUR_ROLL], last_joint_angles[LM_FEMUR_ROLL]/2, target_num_steps)\n",
    "    # elif i == LM_COXA: # LM COXA\n",
    "    #     all_joint_angles_2nd[:,i] = np.linspace(last_joint_angles[LM_COXA], 0, target_num_steps)\n",
    "\n",
    "    elif i == LH_FEMUR: # LH FEMUR\n",
    "        all_joint_angles_2nd[:,i] = np.linspace(last_joint_angles[LH_FEMUR], -2/5*np.pi, target_num_steps)\n",
    "    elif i == LH_TIBIA: # LH tibia\n",
    "        all_joint_angles_2nd[:,i] = np.linspace(last_joint_angles[LH_TIBIA], 3*np.pi/5, target_num_steps)\n",
    "    elif i == LH_TARSUS: # LH tarsus\n",
    "        all_joint_angles_2nd[:,i] = np.linspace(last_joint_angles[LH_TARSUS], -np.pi/12, target_num_steps)\n",
    "\n",
    "#### RIGHT LEGS ####\n",
    "    elif i == RF_TIBIA: # RF tibia\n",
    "        all_joint_angles_2nd[:,i] = np.linspace(last_joint_angles[RF_TIBIA], 1/3*np.pi, target_num_steps)\n",
    "    elif i == RF_TARSUS: # RF tarsus\n",
    "        all_joint_angles_2nd[:,i] = np.linspace(last_joint_angles[RF_TARSUS], 0, target_num_steps)\n",
    "\n",
    "    elif i == RM_TIBIA: # RM tibia\n",
    "        all_joint_angles_2nd[:,i] = np.linspace(last_joint_angles[RM_TIBIA], 1/3*np.pi, target_num_steps)\n",
    "    elif i == RM_TARSUS: # RM tarsus\n",
    "        all_joint_angles_2nd[:,i] = np.linspace(last_joint_angles[RM_TARSUS], 0, target_num_steps)\n",
    "    elif i == RM_FEMUR: # LM FEMUR\n",
    "        all_joint_angles_2nd[:,i] = np.linspace(last_joint_angles[RM_FEMUR], -3/7*np.pi, target_num_steps)\n",
    "    elif i == RM_FEMUR_ROLL: # RM FEMUR ROLL\n",
    "        all_joint_angles_2nd[:,i] = np.linspace(last_joint_angles[RM_FEMUR_ROLL], last_joint_angles[RM_FEMUR_ROLL]/2, target_num_steps)\n",
    "    # elif i == RM_COXA: # RM COXA\n",
    "    #     all_joint_angles_2nd[:,i] = np.linspace(last_joint_angles[RM_COXA], 0, target_num_steps)\n",
    "    \n",
    "    elif i == RH_FEMUR: # RH FEMUR\n",
    "        all_joint_angles_2nd[:,i] = np.linspace(last_joint_angles[RH_FEMUR], -2/5*np.pi, target_num_steps)\n",
    "    elif i == RH_TIBIA: # RH tibia\n",
    "        all_joint_angles_2nd[:,i] = np.linspace(last_joint_angles[RH_TIBIA], 3*np.pi/5, target_num_steps)\n",
    "    elif i == RH_TARSUS: # RH tarsus\n",
    "        all_joint_angles_2nd[:,i] = np.linspace(last_joint_angles[RH_TARSUS], -np.pi/12, target_num_steps)\n",
    "                    \n",
    "    else:\n",
    "        all_joint_angles_2nd[:,i] = np.linspace(last_joint_angles[i], last_joint_angles[i], target_num_steps)\n",
    "\n",
    "all_joint_angles_2nd[:,42:] = abd_joint\n",
    "adhesion_action = np.array([0.0 if leg.endswith(\"H\") else 1.0 for leg in legs])\n",
    "\n",
    "for i in trange(target_num_steps):\n",
    "    joint = all_joint_angles_2nd[i,:]\n",
    "    action = {'joints': joint, \"adhesion\": adhesion_action}\n",
    "    nmf.step(action)\n",
    "    nmf.render()\n",
    "last_joint_angles_2nd = all_joint_angles_2nd[-1,:]\n",
    "nmf.save_video(\"./outputs/c.mp4\")"
   ]
  },
  {
   "cell_type": "markdown",
   "metadata": {},
   "source": [
    "#### Actuate the hindlegs"
   ]
  },
  {
   "cell_type": "code",
   "execution_count": 56,
   "metadata": {},
   "outputs": [],
   "source": [
    "nbre_steps = 5000\n",
    "all_joint_angles_abd = np.tile(last_joint_angles_2nd,(nbre_steps,1)) # shape (nbre_steps, 47)\n",
    "\n",
    "# Update all_joint_angles_abd with the new joint angles of leg \n",
    "start_LH_COXA_YAW = last_joint_angles_2nd[LH_COXA_YAW] \n",
    "start_RH_COXA_YAW = last_joint_angles_2nd[RH_COXA_YAW] \n",
    "start_LH_COXA = last_joint_angles_2nd[LH_COXA] \n",
    "start_RH_COXA = last_joint_angles_2nd[RH_COXA] \n",
    "start_LH_FEMUR_ROLL = last_joint_angles_2nd[LH_FEMUR_ROLL]\n",
    "start_RH_FEMUR_ROLL = last_joint_angles_2nd[RH_FEMUR_ROLL]\n",
    "start_LH_FEMUR = last_joint_angles_2nd[LH_FEMUR] \n",
    "start_RH_FEMUR = last_joint_angles_2nd[RH_FEMUR] \n",
    "start_LH_TARSUS = last_joint_angles_2nd[LH_TARSUS] \n",
    "start_RH_TARSUS = last_joint_angles_2nd[RH_TARSUS] \n",
    "\n",
    "# Spread hindlegs\n",
    "all_joint_angles_abd[:,LH_COXA_YAW] = np.linspace(start_LH_COXA_YAW, start_LH_COXA_YAW-2*np.pi/5, nbre_steps)\n",
    "all_joint_angles_abd[:,RH_COXA_YAW] = np.linspace(start_RH_COXA_YAW, start_RH_COXA_YAW+2*np.pi/5, nbre_steps)\n",
    "\n",
    "all_joint_angles_abd[:,LH_FEMUR_ROLL] = np.linspace(start_LH_FEMUR_ROLL, start_LH_FEMUR_ROLL-np.pi/4, nbre_steps)\n",
    "all_joint_angles_abd[:,RH_FEMUR_ROLL] = np.linspace(start_RH_FEMUR_ROLL, start_RH_FEMUR_ROLL+np.pi/4, nbre_steps)\n",
    "\n",
    "# Up hindlegs\n",
    "# all_joint_angles_abd[:,LH_COXA] = np.linspace(start_LH_COXA, start_LH_COXA+np.pi/6, nbre_steps)\n",
    "# all_joint_angles_abd[:,RH_COXA] = np.linspace(start_RH_COXA, start_RH_COXA+np.pi/6, nbre_steps)\n",
    "\n",
    "all_joint_angles_abd[:,LH_FEMUR] = np.linspace(start_LH_FEMUR, start_LH_FEMUR - np.pi/6, nbre_steps)\n",
    "all_joint_angles_abd[:,RH_FEMUR] = np.linspace(start_RH_FEMUR, start_RH_FEMUR - np.pi/6, nbre_steps)\n",
    "\n",
    "# Spread tarsus\n",
    "all_joint_angles_abd[:,LH_TARSUS] = np.linspace(start_LH_TARSUS, start_LH_TARSUS-np.pi/3, nbre_steps)\n",
    "all_joint_angles_abd[:,RH_TARSUS] = np.linspace(start_RH_TARSUS, start_RH_TARSUS-np.pi/3, nbre_steps)\n"
   ]
  },
  {
   "cell_type": "markdown",
   "metadata": {},
   "source": [
    "##### Simulation"
   ]
  },
  {
   "cell_type": "code",
   "execution_count": 57,
   "metadata": {},
   "outputs": [
    {
     "name": "stderr",
     "output_type": "stream",
     "text": [
      "100%|██████████| 5000/5000 [00:37<00:00, 131.79it/s]\n"
     ]
    }
   ],
   "source": [
    "adhesion_action = np.array([0.0 if leg.endswith(\"H\") else 1.0 for leg in legs])\n",
    "\n",
    "for i in trange(nbre_steps):\n",
    "    joint_angles = all_joint_angles_abd[i,:]\n",
    "    action = {'joints': joint_angles, \"adhesion\": adhesion_action}\n",
    "    nmf.step(action)\n",
    "    nmf.render()\n",
    "\n",
    "if sim_params.render_camera == \"Animat/camera_back\":\n",
    "    nmf.save_video(\"./outputs/up_abd_back.mp4\")\n",
    "elif sim_params.render_camera == \"Animat/camera_left\":\n",
    "    nmf.save_video(\"./outputs/up_abd_left.mp4\")\n",
    "elif sim_params.render_camera == \"Animat/camera_right\":\n",
    "    nmf.save_video(\"./outputs/up_abd_right.mp4\")\n",
    "elif sim_params.render_camera == \"Animat/camera_front\":    \n",
    "    nmf.save_video(\"./outputs/up_abd_front.mp4\")\n",
    "elif sim_params.render_camera == \"Animat/camera_top\":\n",
    "    nmf.save_video(\"./outputs/up_abd_top.mp4\")\n",
    "elif sim_params.render_camera == \"Animat/camera_bottom\":\n",
    "    nmf.save_video(\"./outputs/up_abd_bottom.mp4\")\n",
    "\n",
    "last_joint_angles_abd_up = all_joint_angles_abd[-1].copy()"
   ]
  },
  {
   "cell_type": "markdown",
   "metadata": {},
   "source": [
    "#### Groom abdomen\n",
    "1. move up un peu l'abdomen\n",
    "2. check les dernières positions des hindlegs\n",
    "3. écarter les pattes arrière ---> changer COXA YAW\n",
    "4. lever les pattes arrière ---> changer FEMUR PITCH\n",
    "5. abaisser (à plat) la pattes arrière ---> changer FEMUR ROLL\n",
    "6. "
   ]
  },
  {
   "cell_type": "markdown",
   "metadata": {},
   "source": [
    "#### Move the hind legs up"
   ]
  },
  {
   "cell_type": "markdown",
   "metadata": {},
   "source": [
    "#### Load grooming position of frontleg"
   ]
  },
  {
   "cell_type": "code",
   "execution_count": 58,
   "metadata": {},
   "outputs": [],
   "source": [
    "# grooming_module_path = Path(\"./data/grooming_modules_provided_slow.pkl\")\n",
    "# with open(grooming_module_path, \"rb\") as f:\n",
    "#     grooming_modules = pickle.load(f)\n",
    "\n",
    "# timestep_groom = grooming_modules[\"timestep\"]\n",
    "# target_num_steps_groom = int(1.0 / timestep_groom) # 10'000\n",
    "# target_joint_angles_front = grooming_modules[\"foreleg\"][:, :target_num_steps]\n"
   ]
  },
  {
   "cell_type": "code",
   "execution_count": 59,
   "metadata": {},
   "outputs": [],
   "source": [
    "# # all_joint_angles.shape() = (10000, 42)\n",
    "# # my all_joint_angles_groom_shape() = (558, 21)\n",
    "\n",
    "# # need to map the 21 joints to the 42 joints\n",
    "# target_joint_angles_front = target_joint_angles_front.T # (558, 21)\n",
    "# target_joint_angles_front = np.tile(target_joint_angles_front, (18, 1)) # (10044, 21)\n",
    "\n",
    "# joint_LHCoxa = target_joint_angles_front[:,3]"
   ]
  },
  {
   "cell_type": "code",
   "execution_count": 60,
   "metadata": {},
   "outputs": [],
   "source": [
    "# print(joint_LHCoxa.shape)\n",
    "# print(joint_LHCoxa[:target_num_steps].shape)\n",
    "# test = np.ones((target_num_steps, len(all_joint_angles[0])))\n",
    "# print(test.shape)\n",
    "# print(target_num_steps)"
   ]
  },
  {
   "cell_type": "markdown",
   "metadata": {},
   "source": [
    "#### Map the grooming position of the leg to the corresponding body part."
   ]
  },
  {
   "cell_type": "code",
   "execution_count": 61,
   "metadata": {},
   "outputs": [],
   "source": [
    "# joint_LHCoxa = target_joint_angles_front[:,3]\n",
    "# joint_LHCoxa_roll = target_joint_angles_front[:,4]\n",
    "# joint_LHCoxa_yaw = target_joint_angles_front[:,5]\n",
    "# joint_LHFemur = target_joint_angles_front[:,6]\n",
    "# joint_LHFemur_roll = target_joint_angles_front[:,7]\n",
    "# joint_LHTibia = target_joint_angles_front[:,8]\n",
    "# joint_LHTarsus = target_joint_angles_front[:,9]\n",
    "# joint_RHCoxa = target_joint_angles_front[:,10]\n",
    "# joint_RHCoxa_roll = target_joint_angles_front[:,11]\n",
    "# joint_RHCoxa_yaw = target_joint_angles_front[:,12]\n",
    "# joint_RHFemur = target_joint_angles_front[:,13]\n",
    "# joint_RHFemur_roll = target_joint_angles_front[:,14]\n",
    "# joint_RHTibia = target_joint_angles_front[:,15]\n",
    "# joint_RHTarsus = target_joint_angles_front[:,16]\n",
    "\n",
    "\n",
    "# all_joint_angles = np.ones((target_num_steps, len(all_joint_angles[0]))) # 10000, 42\n",
    "# print(all_joint_angles.shape)\n",
    "\n",
    "# all_joint_angles[:,14] = joint_LHCoxa[:target_num_steps] # jusqu'à 10'000\n",
    "# all_joint_angles[:,15] = joint_LHCoxa_roll[:target_num_steps]\n",
    "# all_joint_angles[:,16] = joint_LHCoxa_yaw[:target_num_steps]\n",
    "# all_joint_angles[:,17] = joint_LHFemur[:target_num_steps]\n",
    "# all_joint_angles[:,18] = joint_LHFemur_roll[:target_num_steps]\n",
    "# all_joint_angles[:,19] = joint_LHTibia[:target_num_steps]\n",
    "# all_joint_angles[:,20] = joint_LHTarsus[:target_num_steps]\n",
    "# all_joint_angles[:,35] = joint_RHCoxa[:target_num_steps]\n",
    "# all_joint_angles[:,36] = joint_RHCoxa_roll[:target_num_steps]\n",
    "# all_joint_angles[:,37] = joint_RHCoxa_yaw[:target_num_steps]\n",
    "# all_joint_angles[:,38] = joint_RHFemur[:target_num_steps]\n",
    "# all_joint_angles[:,39] = joint_RHFemur_roll[:target_num_steps]\n",
    "# all_joint_angles[:,40] = joint_RHTibia[:target_num_steps]\n",
    "# all_joint_angles[:,41] = joint_RHTarsus[:target_num_steps]\n"
   ]
  }
 ],
 "metadata": {
  "kernelspec": {
   "display_name": "flygym",
   "language": "python",
   "name": "python3"
  },
  "language_info": {
   "codemirror_mode": {
    "name": "ipython",
    "version": 3
   },
   "file_extension": ".py",
   "mimetype": "text/x-python",
   "name": "python",
   "nbconvert_exporter": "python",
   "pygments_lexer": "ipython3",
   "version": "3.11.7"
  }
 },
 "nbformat": 4,
 "nbformat_minor": 2
}
